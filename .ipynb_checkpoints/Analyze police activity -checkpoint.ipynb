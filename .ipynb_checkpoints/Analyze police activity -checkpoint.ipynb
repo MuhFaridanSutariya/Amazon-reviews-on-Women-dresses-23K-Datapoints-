{
 "cells": [
  {
   "cell_type": "markdown",
   "id": "14aa2303",
   "metadata": {},
   "source": [
    "# Import library/dataset"
   ]
  },
  {
   "cell_type": "code",
   "execution_count": 1,
   "id": "2bca37de",
   "metadata": {},
   "outputs": [],
   "source": [
    "import pandas as pd\n",
    "import numpy as np\n",
    "import matplotlib.pyplot as plt\n",
    "import seaborn as sns"
   ]
  },
  {
   "cell_type": "code",
   "execution_count": 2,
   "id": "8a713256",
   "metadata": {
    "scrolled": true
   },
   "outputs": [
    {
     "name": "stderr",
     "output_type": "stream",
     "text": [
      "D:\\MiniConda\\envs\\jcopml\\lib\\site-packages\\IPython\\core\\interactiveshell.py:3020: DtypeWarning: Columns (6,17,30) have mixed types. Specify dtype option on import or set low_memory=False.\n",
      "  interactivity=interactivity, compiler=compiler, result=result)\n"
     ]
    },
    {
     "data": {
      "text/html": [
       "<div>\n",
       "<style scoped>\n",
       "    .dataframe tbody tr th:only-of-type {\n",
       "        vertical-align: middle;\n",
       "    }\n",
       "\n",
       "    .dataframe tbody tr th {\n",
       "        vertical-align: top;\n",
       "    }\n",
       "\n",
       "    .dataframe thead th {\n",
       "        text-align: right;\n",
       "    }\n",
       "</style>\n",
       "<table border=\"1\" class=\"dataframe\">\n",
       "  <thead>\n",
       "    <tr style=\"text-align: right;\">\n",
       "      <th></th>\n",
       "      <th>raw_row_number</th>\n",
       "      <th>date</th>\n",
       "      <th>time</th>\n",
       "      <th>zone</th>\n",
       "      <th>subject_race</th>\n",
       "      <th>subject_sex</th>\n",
       "      <th>department_id</th>\n",
       "      <th>type</th>\n",
       "      <th>arrest_made</th>\n",
       "      <th>citation_issued</th>\n",
       "      <th>...</th>\n",
       "      <th>reason_for_stop</th>\n",
       "      <th>vehicle_make</th>\n",
       "      <th>vehicle_model</th>\n",
       "      <th>raw_BasisForStop</th>\n",
       "      <th>raw_OperatorRace</th>\n",
       "      <th>raw_OperatorSex</th>\n",
       "      <th>raw_ResultOfStop</th>\n",
       "      <th>raw_SearchResultOne</th>\n",
       "      <th>raw_SearchResultTwo</th>\n",
       "      <th>raw_SearchResultThree</th>\n",
       "    </tr>\n",
       "  </thead>\n",
       "  <tbody>\n",
       "    <tr>\n",
       "      <th>0</th>\n",
       "      <td>1</td>\n",
       "      <td>2005-11-22</td>\n",
       "      <td>11:15:00</td>\n",
       "      <td>X3</td>\n",
       "      <td>white</td>\n",
       "      <td>male</td>\n",
       "      <td>200</td>\n",
       "      <td>vehicular</td>\n",
       "      <td>False</td>\n",
       "      <td>True</td>\n",
       "      <td>...</td>\n",
       "      <td>Speeding</td>\n",
       "      <td>NaN</td>\n",
       "      <td>NaN</td>\n",
       "      <td>SP</td>\n",
       "      <td>W</td>\n",
       "      <td>M</td>\n",
       "      <td>M</td>\n",
       "      <td>NaN</td>\n",
       "      <td>NaN</td>\n",
       "      <td>NaN</td>\n",
       "    </tr>\n",
       "    <tr>\n",
       "      <th>1</th>\n",
       "      <td>2</td>\n",
       "      <td>2005-10-01</td>\n",
       "      <td>12:20:00</td>\n",
       "      <td>X3</td>\n",
       "      <td>white</td>\n",
       "      <td>male</td>\n",
       "      <td>200</td>\n",
       "      <td>vehicular</td>\n",
       "      <td>False</td>\n",
       "      <td>True</td>\n",
       "      <td>...</td>\n",
       "      <td>Speeding</td>\n",
       "      <td>NaN</td>\n",
       "      <td>NaN</td>\n",
       "      <td>SP</td>\n",
       "      <td>W</td>\n",
       "      <td>M</td>\n",
       "      <td>M</td>\n",
       "      <td>NaN</td>\n",
       "      <td>NaN</td>\n",
       "      <td>NaN</td>\n",
       "    </tr>\n",
       "    <tr>\n",
       "      <th>2</th>\n",
       "      <td>3</td>\n",
       "      <td>2005-10-01</td>\n",
       "      <td>12:30:00</td>\n",
       "      <td>X3</td>\n",
       "      <td>white</td>\n",
       "      <td>female</td>\n",
       "      <td>200</td>\n",
       "      <td>vehicular</td>\n",
       "      <td>False</td>\n",
       "      <td>True</td>\n",
       "      <td>...</td>\n",
       "      <td>Speeding</td>\n",
       "      <td>NaN</td>\n",
       "      <td>NaN</td>\n",
       "      <td>SP</td>\n",
       "      <td>W</td>\n",
       "      <td>F</td>\n",
       "      <td>M</td>\n",
       "      <td>NaN</td>\n",
       "      <td>NaN</td>\n",
       "      <td>NaN</td>\n",
       "    </tr>\n",
       "    <tr>\n",
       "      <th>3</th>\n",
       "      <td>4</td>\n",
       "      <td>2005-10-01</td>\n",
       "      <td>12:50:00</td>\n",
       "      <td>X3</td>\n",
       "      <td>white</td>\n",
       "      <td>male</td>\n",
       "      <td>200</td>\n",
       "      <td>vehicular</td>\n",
       "      <td>False</td>\n",
       "      <td>True</td>\n",
       "      <td>...</td>\n",
       "      <td>Speeding</td>\n",
       "      <td>NaN</td>\n",
       "      <td>NaN</td>\n",
       "      <td>SP</td>\n",
       "      <td>W</td>\n",
       "      <td>M</td>\n",
       "      <td>M</td>\n",
       "      <td>NaN</td>\n",
       "      <td>NaN</td>\n",
       "      <td>NaN</td>\n",
       "    </tr>\n",
       "    <tr>\n",
       "      <th>4</th>\n",
       "      <td>5</td>\n",
       "      <td>2005-10-01</td>\n",
       "      <td>13:10:00</td>\n",
       "      <td>X3</td>\n",
       "      <td>white</td>\n",
       "      <td>female</td>\n",
       "      <td>200</td>\n",
       "      <td>vehicular</td>\n",
       "      <td>False</td>\n",
       "      <td>True</td>\n",
       "      <td>...</td>\n",
       "      <td>Speeding</td>\n",
       "      <td>NaN</td>\n",
       "      <td>NaN</td>\n",
       "      <td>SP</td>\n",
       "      <td>W</td>\n",
       "      <td>F</td>\n",
       "      <td>M</td>\n",
       "      <td>NaN</td>\n",
       "      <td>NaN</td>\n",
       "      <td>NaN</td>\n",
       "    </tr>\n",
       "  </tbody>\n",
       "</table>\n",
       "<p>5 rows × 31 columns</p>\n",
       "</div>"
      ],
      "text/plain": [
       "   raw_row_number        date      time zone subject_race subject_sex  \\\n",
       "0               1  2005-11-22  11:15:00   X3        white        male   \n",
       "1               2  2005-10-01  12:20:00   X3        white        male   \n",
       "2               3  2005-10-01  12:30:00   X3        white      female   \n",
       "3               4  2005-10-01  12:50:00   X3        white        male   \n",
       "4               5  2005-10-01  13:10:00   X3        white      female   \n",
       "\n",
       "  department_id       type arrest_made citation_issued  ... reason_for_stop  \\\n",
       "0           200  vehicular       False            True  ...        Speeding   \n",
       "1           200  vehicular       False            True  ...        Speeding   \n",
       "2           200  vehicular       False            True  ...        Speeding   \n",
       "3           200  vehicular       False            True  ...        Speeding   \n",
       "4           200  vehicular       False            True  ...        Speeding   \n",
       "\n",
       "  vehicle_make vehicle_model raw_BasisForStop raw_OperatorRace  \\\n",
       "0          NaN           NaN               SP                W   \n",
       "1          NaN           NaN               SP                W   \n",
       "2          NaN           NaN               SP                W   \n",
       "3          NaN           NaN               SP                W   \n",
       "4          NaN           NaN               SP                W   \n",
       "\n",
       "  raw_OperatorSex raw_ResultOfStop raw_SearchResultOne  raw_SearchResultTwo  \\\n",
       "0               M                M                 NaN                  NaN   \n",
       "1               M                M                 NaN                  NaN   \n",
       "2               F                M                 NaN                  NaN   \n",
       "3               M                M                 NaN                  NaN   \n",
       "4               F                M                 NaN                  NaN   \n",
       "\n",
       "  raw_SearchResultThree  \n",
       "0                   NaN  \n",
       "1                   NaN  \n",
       "2                   NaN  \n",
       "3                   NaN  \n",
       "4                   NaN  \n",
       "\n",
       "[5 rows x 31 columns]"
      ]
     },
     "execution_count": 2,
     "metadata": {},
     "output_type": "execute_result"
    }
   ],
   "source": [
    "df = pd.read_csv('ri_statewide_2020_04_01.csv')\n",
    "df.head()"
   ]
  },
  {
   "cell_type": "code",
   "execution_count": 3,
   "id": "49e0e192",
   "metadata": {
    "scrolled": true
   },
   "outputs": [
    {
     "data": {
      "text/plain": [
       "Index(['raw_row_number', 'date', 'time', 'zone', 'subject_race', 'subject_sex',\n",
       "       'department_id', 'type', 'arrest_made', 'citation_issued',\n",
       "       'warning_issued', 'outcome', 'contraband_found', 'contraband_drugs',\n",
       "       'contraband_weapons', 'contraband_alcohol', 'contraband_other',\n",
       "       'frisk_performed', 'search_conducted', 'search_basis',\n",
       "       'reason_for_search', 'reason_for_stop', 'vehicle_make', 'vehicle_model',\n",
       "       'raw_BasisForStop', 'raw_OperatorRace', 'raw_OperatorSex',\n",
       "       'raw_ResultOfStop', 'raw_SearchResultOne', 'raw_SearchResultTwo',\n",
       "       'raw_SearchResultThree'],\n",
       "      dtype='object')"
      ]
     },
     "execution_count": 3,
     "metadata": {},
     "output_type": "execute_result"
    }
   ],
   "source": [
    "df.columns"
   ]
  },
  {
   "cell_type": "markdown",
   "id": "a67cbcdb",
   "metadata": {},
   "source": [
    "### DATA CLEANING "
   ]
  },
  {
   "cell_type": "code",
   "execution_count": 4,
   "id": "454cb258",
   "metadata": {},
   "outputs": [
    {
     "name": "stdout",
     "output_type": "stream",
     "text": [
      "Row : 509681, Column : 31\n"
     ]
    }
   ],
   "source": [
    "print(\"Row : {}, Column : {}\".format(df.shape[0], df.shape[1]))"
   ]
  },
  {
   "cell_type": "code",
   "execution_count": 5,
   "id": "8e1cc6da",
   "metadata": {
    "scrolled": true
   },
   "outputs": [
    {
     "name": "stdout",
     "output_type": "stream",
     "text": [
      "<class 'pandas.core.frame.DataFrame'>\n",
      "RangeIndex: 509681 entries, 0 to 509680\n",
      "Data columns (total 31 columns):\n",
      "raw_row_number           509681 non-null int64\n",
      "date                     509671 non-null object\n",
      "time                     509671 non-null object\n",
      "zone                     509671 non-null object\n",
      "subject_race             480608 non-null object\n",
      "subject_sex              480584 non-null object\n",
      "department_id            509671 non-null object\n",
      "type                     509681 non-null object\n",
      "arrest_made              480608 non-null object\n",
      "citation_issued          480608 non-null object\n",
      "warning_issued           480608 non-null object\n",
      "outcome                  473840 non-null object\n",
      "contraband_found         17762 non-null object\n",
      "contraband_drugs         15988 non-null object\n",
      "contraband_weapons       11795 non-null object\n",
      "contraband_alcohol       1217 non-null object\n",
      "contraband_other         17762 non-null object\n",
      "frisk_performed          509671 non-null object\n",
      "search_conducted         509681 non-null bool\n",
      "search_basis             17762 non-null object\n",
      "reason_for_search        17762 non-null object\n",
      "reason_for_stop          480608 non-null object\n",
      "vehicle_make             318117 non-null object\n",
      "vehicle_model            230088 non-null object\n",
      "raw_BasisForStop         480608 non-null object\n",
      "raw_OperatorRace         480608 non-null object\n",
      "raw_OperatorSex          480608 non-null object\n",
      "raw_ResultOfStop         480608 non-null object\n",
      "raw_SearchResultOne      17762 non-null object\n",
      "raw_SearchResultTwo      819 non-null object\n",
      "raw_SearchResultThree    168 non-null object\n",
      "dtypes: bool(1), int64(1), object(29)\n",
      "memory usage: 117.1+ MB\n"
     ]
    }
   ],
   "source": [
    "df.info()"
   ]
  },
  {
   "cell_type": "code",
   "execution_count": 6,
   "id": "cbef01b3",
   "metadata": {
    "scrolled": true
   },
   "outputs": [
    {
     "data": {
      "text/html": [
       "<div>\n",
       "<style scoped>\n",
       "    .dataframe tbody tr th:only-of-type {\n",
       "        vertical-align: middle;\n",
       "    }\n",
       "\n",
       "    .dataframe tbody tr th {\n",
       "        vertical-align: top;\n",
       "    }\n",
       "\n",
       "    .dataframe thead th {\n",
       "        text-align: right;\n",
       "    }\n",
       "</style>\n",
       "<table border=\"1\" class=\"dataframe\">\n",
       "  <thead>\n",
       "    <tr style=\"text-align: right;\">\n",
       "      <th></th>\n",
       "      <th>Total</th>\n",
       "      <th>Percentage of Missing Values</th>\n",
       "    </tr>\n",
       "  </thead>\n",
       "  <tbody>\n",
       "    <tr>\n",
       "      <th>raw_SearchResultThree</th>\n",
       "      <td>509513</td>\n",
       "      <td>99.967038</td>\n",
       "    </tr>\n",
       "    <tr>\n",
       "      <th>raw_SearchResultTwo</th>\n",
       "      <td>508862</td>\n",
       "      <td>99.839311</td>\n",
       "    </tr>\n",
       "    <tr>\n",
       "      <th>contraband_alcohol</th>\n",
       "      <td>508464</td>\n",
       "      <td>99.761223</td>\n",
       "    </tr>\n",
       "    <tr>\n",
       "      <th>contraband_weapons</th>\n",
       "      <td>497886</td>\n",
       "      <td>97.685807</td>\n",
       "    </tr>\n",
       "    <tr>\n",
       "      <th>contraband_drugs</th>\n",
       "      <td>493693</td>\n",
       "      <td>96.863136</td>\n",
       "    </tr>\n",
       "    <tr>\n",
       "      <th>contraband_found</th>\n",
       "      <td>491919</td>\n",
       "      <td>96.515075</td>\n",
       "    </tr>\n",
       "    <tr>\n",
       "      <th>reason_for_search</th>\n",
       "      <td>491919</td>\n",
       "      <td>96.515075</td>\n",
       "    </tr>\n",
       "    <tr>\n",
       "      <th>search_basis</th>\n",
       "      <td>491919</td>\n",
       "      <td>96.515075</td>\n",
       "    </tr>\n",
       "    <tr>\n",
       "      <th>contraband_other</th>\n",
       "      <td>491919</td>\n",
       "      <td>96.515075</td>\n",
       "    </tr>\n",
       "    <tr>\n",
       "      <th>raw_SearchResultOne</th>\n",
       "      <td>491919</td>\n",
       "      <td>96.515075</td>\n",
       "    </tr>\n",
       "    <tr>\n",
       "      <th>vehicle_model</th>\n",
       "      <td>279593</td>\n",
       "      <td>54.856469</td>\n",
       "    </tr>\n",
       "    <tr>\n",
       "      <th>vehicle_make</th>\n",
       "      <td>191564</td>\n",
       "      <td>37.585078</td>\n",
       "    </tr>\n",
       "    <tr>\n",
       "      <th>outcome</th>\n",
       "      <td>35841</td>\n",
       "      <td>7.032046</td>\n",
       "    </tr>\n",
       "    <tr>\n",
       "      <th>subject_sex</th>\n",
       "      <td>29097</td>\n",
       "      <td>5.708865</td>\n",
       "    </tr>\n",
       "    <tr>\n",
       "      <th>subject_race</th>\n",
       "      <td>29073</td>\n",
       "      <td>5.704156</td>\n",
       "    </tr>\n",
       "    <tr>\n",
       "      <th>arrest_made</th>\n",
       "      <td>29073</td>\n",
       "      <td>5.704156</td>\n",
       "    </tr>\n",
       "    <tr>\n",
       "      <th>citation_issued</th>\n",
       "      <td>29073</td>\n",
       "      <td>5.704156</td>\n",
       "    </tr>\n",
       "    <tr>\n",
       "      <th>warning_issued</th>\n",
       "      <td>29073</td>\n",
       "      <td>5.704156</td>\n",
       "    </tr>\n",
       "    <tr>\n",
       "      <th>raw_ResultOfStop</th>\n",
       "      <td>29073</td>\n",
       "      <td>5.704156</td>\n",
       "    </tr>\n",
       "    <tr>\n",
       "      <th>raw_OperatorSex</th>\n",
       "      <td>29073</td>\n",
       "      <td>5.704156</td>\n",
       "    </tr>\n",
       "    <tr>\n",
       "      <th>reason_for_stop</th>\n",
       "      <td>29073</td>\n",
       "      <td>5.704156</td>\n",
       "    </tr>\n",
       "    <tr>\n",
       "      <th>raw_BasisForStop</th>\n",
       "      <td>29073</td>\n",
       "      <td>5.704156</td>\n",
       "    </tr>\n",
       "    <tr>\n",
       "      <th>raw_OperatorRace</th>\n",
       "      <td>29073</td>\n",
       "      <td>5.704156</td>\n",
       "    </tr>\n",
       "    <tr>\n",
       "      <th>frisk_performed</th>\n",
       "      <td>10</td>\n",
       "      <td>0.001962</td>\n",
       "    </tr>\n",
       "    <tr>\n",
       "      <th>department_id</th>\n",
       "      <td>10</td>\n",
       "      <td>0.001962</td>\n",
       "    </tr>\n",
       "    <tr>\n",
       "      <th>zone</th>\n",
       "      <td>10</td>\n",
       "      <td>0.001962</td>\n",
       "    </tr>\n",
       "    <tr>\n",
       "      <th>time</th>\n",
       "      <td>10</td>\n",
       "      <td>0.001962</td>\n",
       "    </tr>\n",
       "    <tr>\n",
       "      <th>date</th>\n",
       "      <td>10</td>\n",
       "      <td>0.001962</td>\n",
       "    </tr>\n",
       "    <tr>\n",
       "      <th>search_conducted</th>\n",
       "      <td>0</td>\n",
       "      <td>0.000000</td>\n",
       "    </tr>\n",
       "    <tr>\n",
       "      <th>type</th>\n",
       "      <td>0</td>\n",
       "      <td>0.000000</td>\n",
       "    </tr>\n",
       "    <tr>\n",
       "      <th>raw_row_number</th>\n",
       "      <td>0</td>\n",
       "      <td>0.000000</td>\n",
       "    </tr>\n",
       "  </tbody>\n",
       "</table>\n",
       "</div>"
      ],
      "text/plain": [
       "                        Total  Percentage of Missing Values\n",
       "raw_SearchResultThree  509513                     99.967038\n",
       "raw_SearchResultTwo    508862                     99.839311\n",
       "contraband_alcohol     508464                     99.761223\n",
       "contraband_weapons     497886                     97.685807\n",
       "contraband_drugs       493693                     96.863136\n",
       "contraband_found       491919                     96.515075\n",
       "reason_for_search      491919                     96.515075\n",
       "search_basis           491919                     96.515075\n",
       "contraband_other       491919                     96.515075\n",
       "raw_SearchResultOne    491919                     96.515075\n",
       "vehicle_model          279593                     54.856469\n",
       "vehicle_make           191564                     37.585078\n",
       "outcome                 35841                      7.032046\n",
       "subject_sex             29097                      5.708865\n",
       "subject_race            29073                      5.704156\n",
       "arrest_made             29073                      5.704156\n",
       "citation_issued         29073                      5.704156\n",
       "warning_issued          29073                      5.704156\n",
       "raw_ResultOfStop        29073                      5.704156\n",
       "raw_OperatorSex         29073                      5.704156\n",
       "reason_for_stop         29073                      5.704156\n",
       "raw_BasisForStop        29073                      5.704156\n",
       "raw_OperatorRace        29073                      5.704156\n",
       "frisk_performed            10                      0.001962\n",
       "department_id              10                      0.001962\n",
       "zone                       10                      0.001962\n",
       "time                       10                      0.001962\n",
       "date                       10                      0.001962\n",
       "search_conducted            0                      0.000000\n",
       "type                        0                      0.000000\n",
       "raw_row_number              0                      0.000000"
      ]
     },
     "execution_count": 6,
     "metadata": {},
     "output_type": "execute_result"
    }
   ],
   "source": [
    "Total = df.isnull().sum().sort_values(ascending=False)          \n",
    "\n",
    "Percent = (df.isnull().sum()*100/df.isnull().count()).sort_values(ascending=False)   \n",
    "\n",
    "missing_data = pd.concat([Total, Percent], axis = 1, keys = ['Total', 'Percentage of Missing Values'])    \n",
    "missing_data"
   ]
  },
  {
   "cell_type": "markdown",
   "id": "ad145520",
   "metadata": {},
   "source": [
    "<h5>Delete Columns useless, many missing values and only have one value</h5>"
   ]
  },
  {
   "cell_type": "code",
   "execution_count": 7,
   "id": "107f4986",
   "metadata": {},
   "outputs": [],
   "source": [
    "df.drop(['raw_row_number','department_id','type','citation_issued','warning_issued','frisk_performed','vehicle_make', 'vehicle_model','raw_SearchResultOne','raw_SearchResultTwo', 'raw_SearchResultThree', 'subject_race', 'subject_sex', 'contraband_alcohol', 'contraband_weapons', 'contraband_drugs', 'contraband_found', 'reason_for_search','search_basis','contraband_other','reason_for_stop', 'raw_ResultOfStop'], axis=1, inplace=True)"
   ]
  },
  {
   "cell_type": "code",
   "execution_count": 8,
   "id": "6ead7828",
   "metadata": {
    "scrolled": true
   },
   "outputs": [
    {
     "data": {
      "text/html": [
       "<div>\n",
       "<style scoped>\n",
       "    .dataframe tbody tr th:only-of-type {\n",
       "        vertical-align: middle;\n",
       "    }\n",
       "\n",
       "    .dataframe tbody tr th {\n",
       "        vertical-align: top;\n",
       "    }\n",
       "\n",
       "    .dataframe thead th {\n",
       "        text-align: right;\n",
       "    }\n",
       "</style>\n",
       "<table border=\"1\" class=\"dataframe\">\n",
       "  <thead>\n",
       "    <tr style=\"text-align: right;\">\n",
       "      <th></th>\n",
       "      <th>date</th>\n",
       "      <th>time</th>\n",
       "      <th>zone</th>\n",
       "      <th>arrest_made</th>\n",
       "      <th>outcome</th>\n",
       "      <th>search_conducted</th>\n",
       "      <th>raw_BasisForStop</th>\n",
       "      <th>raw_OperatorRace</th>\n",
       "      <th>raw_OperatorSex</th>\n",
       "    </tr>\n",
       "  </thead>\n",
       "  <tbody>\n",
       "    <tr>\n",
       "      <th>0</th>\n",
       "      <td>2005-11-22</td>\n",
       "      <td>11:15:00</td>\n",
       "      <td>X3</td>\n",
       "      <td>False</td>\n",
       "      <td>citation</td>\n",
       "      <td>False</td>\n",
       "      <td>SP</td>\n",
       "      <td>W</td>\n",
       "      <td>M</td>\n",
       "    </tr>\n",
       "    <tr>\n",
       "      <th>1</th>\n",
       "      <td>2005-10-01</td>\n",
       "      <td>12:20:00</td>\n",
       "      <td>X3</td>\n",
       "      <td>False</td>\n",
       "      <td>citation</td>\n",
       "      <td>False</td>\n",
       "      <td>SP</td>\n",
       "      <td>W</td>\n",
       "      <td>M</td>\n",
       "    </tr>\n",
       "    <tr>\n",
       "      <th>2</th>\n",
       "      <td>2005-10-01</td>\n",
       "      <td>12:30:00</td>\n",
       "      <td>X3</td>\n",
       "      <td>False</td>\n",
       "      <td>citation</td>\n",
       "      <td>False</td>\n",
       "      <td>SP</td>\n",
       "      <td>W</td>\n",
       "      <td>F</td>\n",
       "    </tr>\n",
       "    <tr>\n",
       "      <th>3</th>\n",
       "      <td>2005-10-01</td>\n",
       "      <td>12:50:00</td>\n",
       "      <td>X3</td>\n",
       "      <td>False</td>\n",
       "      <td>citation</td>\n",
       "      <td>False</td>\n",
       "      <td>SP</td>\n",
       "      <td>W</td>\n",
       "      <td>M</td>\n",
       "    </tr>\n",
       "    <tr>\n",
       "      <th>4</th>\n",
       "      <td>2005-10-01</td>\n",
       "      <td>13:10:00</td>\n",
       "      <td>X3</td>\n",
       "      <td>False</td>\n",
       "      <td>citation</td>\n",
       "      <td>False</td>\n",
       "      <td>SP</td>\n",
       "      <td>W</td>\n",
       "      <td>F</td>\n",
       "    </tr>\n",
       "  </tbody>\n",
       "</table>\n",
       "</div>"
      ],
      "text/plain": [
       "         date      time zone arrest_made   outcome  search_conducted  \\\n",
       "0  2005-11-22  11:15:00   X3       False  citation             False   \n",
       "1  2005-10-01  12:20:00   X3       False  citation             False   \n",
       "2  2005-10-01  12:30:00   X3       False  citation             False   \n",
       "3  2005-10-01  12:50:00   X3       False  citation             False   \n",
       "4  2005-10-01  13:10:00   X3       False  citation             False   \n",
       "\n",
       "  raw_BasisForStop raw_OperatorRace raw_OperatorSex  \n",
       "0               SP                W               M  \n",
       "1               SP                W               M  \n",
       "2               SP                W               F  \n",
       "3               SP                W               M  \n",
       "4               SP                W               F  "
      ]
     },
     "execution_count": 8,
     "metadata": {},
     "output_type": "execute_result"
    }
   ],
   "source": [
    "df.head()"
   ]
  },
  {
   "cell_type": "markdown",
   "id": "1d4331d5",
   "metadata": {},
   "source": [
    "<center><h2>DATA UNDERSTANDING</h2></center>\n",
    "\n",
    "<b>date :</b> InThe date of the stop, in YYYY-MM-DD format. Some states do not provide the exact stop date: for example, they only provide the year or quarter in which the stop occurred. For these states, stop_date is set to the date at the beginning of the period: for example, January 1 if only year is provided.\n",
    "\n",
    "<b>time :</b> The 24-hour time of the stop, in HH:MM format.\t\n",
    "\n",
    "<b>arrest_made :</b> Indicates whether an arrest made.\t(True/False)\n",
    "\n",
    "<b>outcome :</b> The strictest action taken among arrest, citation, warning, and summons. (citation/warning/arrest)\n",
    "\n",
    "<b>search_conducted :</b> Indicates whether any type of search was conducted, i.e. driver, passenger, vehicle. Frisks are excluded where the department has provided resolution on both. (True/False)\n",
    "\n",
    "<b>raw_BasisForStop :</b><br>\n",
    "- Speeding(SP)                            \n",
    "- Other Traffic Violation(OT)              \n",
    "- Equipment/Inspection Violation(EQ)       \n",
    "- Registration Violation(RV)               \n",
    "- Seatbelt Violation(SB)                   \n",
    "- Special Detail/Directed Patrol(SD)       \n",
    "- Call for Service(CS)                      \n",
    "- Violation of City/Town Ordinance(VO)      \n",
    "- Motorist Assist/Courtesy(MO)               \n",
    "- APB(AP)                                    \n",
    "- Suspicious Person(SU)                      \n",
    "- Warrant(WA)   \n",
    "\n",
    "<b>raw_OperatorRace :</b> <br>\n",
    "- White(W)\n",
    "- Black(B)\n",
    "- Hispanic(H)\n",
    "- Asian(I)\n",
    "- Do not know(L)\n",
    "- Do not know(O)\n",
    "- Do not know(N)\n",
    "\n",
    "<b>raw_OperatorSex :</b> <br>\n",
    "- MALE(M)\n",
    "- FEMALE(F)\n",
    "- Do not know(U)\n",
    "- Do now know(N)"
   ]
  },
  {
   "cell_type": "markdown",
   "id": "5470246f",
   "metadata": {},
   "source": [
    "<b>Rename feature for easy understanding</b>"
   ]
  },
  {
   "cell_type": "code",
   "execution_count": 9,
   "id": "2924ccf3",
   "metadata": {},
   "outputs": [
    {
     "data": {
      "text/html": [
       "<div>\n",
       "<style scoped>\n",
       "    .dataframe tbody tr th:only-of-type {\n",
       "        vertical-align: middle;\n",
       "    }\n",
       "\n",
       "    .dataframe tbody tr th {\n",
       "        vertical-align: top;\n",
       "    }\n",
       "\n",
       "    .dataframe thead th {\n",
       "        text-align: right;\n",
       "    }\n",
       "</style>\n",
       "<table border=\"1\" class=\"dataframe\">\n",
       "  <thead>\n",
       "    <tr style=\"text-align: right;\">\n",
       "      <th></th>\n",
       "      <th>date</th>\n",
       "      <th>time</th>\n",
       "      <th>zone</th>\n",
       "      <th>arrest_made</th>\n",
       "      <th>outcome</th>\n",
       "      <th>search_conducted</th>\n",
       "      <th>raw_BasisForStop</th>\n",
       "      <th>raw_OperatorRace</th>\n",
       "      <th>raw_OperatorSex</th>\n",
       "    </tr>\n",
       "  </thead>\n",
       "  <tbody>\n",
       "    <tr>\n",
       "      <th>0</th>\n",
       "      <td>2005-11-22</td>\n",
       "      <td>11:15:00</td>\n",
       "      <td>X3</td>\n",
       "      <td>False</td>\n",
       "      <td>citation</td>\n",
       "      <td>False</td>\n",
       "      <td>SP</td>\n",
       "      <td>W</td>\n",
       "      <td>M</td>\n",
       "    </tr>\n",
       "    <tr>\n",
       "      <th>1</th>\n",
       "      <td>2005-10-01</td>\n",
       "      <td>12:20:00</td>\n",
       "      <td>X3</td>\n",
       "      <td>False</td>\n",
       "      <td>citation</td>\n",
       "      <td>False</td>\n",
       "      <td>SP</td>\n",
       "      <td>W</td>\n",
       "      <td>M</td>\n",
       "    </tr>\n",
       "    <tr>\n",
       "      <th>2</th>\n",
       "      <td>2005-10-01</td>\n",
       "      <td>12:30:00</td>\n",
       "      <td>X3</td>\n",
       "      <td>False</td>\n",
       "      <td>citation</td>\n",
       "      <td>False</td>\n",
       "      <td>SP</td>\n",
       "      <td>W</td>\n",
       "      <td>F</td>\n",
       "    </tr>\n",
       "    <tr>\n",
       "      <th>3</th>\n",
       "      <td>2005-10-01</td>\n",
       "      <td>12:50:00</td>\n",
       "      <td>X3</td>\n",
       "      <td>False</td>\n",
       "      <td>citation</td>\n",
       "      <td>False</td>\n",
       "      <td>SP</td>\n",
       "      <td>W</td>\n",
       "      <td>M</td>\n",
       "    </tr>\n",
       "    <tr>\n",
       "      <th>4</th>\n",
       "      <td>2005-10-01</td>\n",
       "      <td>13:10:00</td>\n",
       "      <td>X3</td>\n",
       "      <td>False</td>\n",
       "      <td>citation</td>\n",
       "      <td>False</td>\n",
       "      <td>SP</td>\n",
       "      <td>W</td>\n",
       "      <td>F</td>\n",
       "    </tr>\n",
       "  </tbody>\n",
       "</table>\n",
       "</div>"
      ],
      "text/plain": [
       "         date      time zone arrest_made   outcome  search_conducted  \\\n",
       "0  2005-11-22  11:15:00   X3       False  citation             False   \n",
       "1  2005-10-01  12:20:00   X3       False  citation             False   \n",
       "2  2005-10-01  12:30:00   X3       False  citation             False   \n",
       "3  2005-10-01  12:50:00   X3       False  citation             False   \n",
       "4  2005-10-01  13:10:00   X3       False  citation             False   \n",
       "\n",
       "  raw_BasisForStop raw_OperatorRace raw_OperatorSex  \n",
       "0               SP                W               M  \n",
       "1               SP                W               M  \n",
       "2               SP                W               F  \n",
       "3               SP                W               M  \n",
       "4               SP                W               F  "
      ]
     },
     "execution_count": 9,
     "metadata": {},
     "output_type": "execute_result"
    }
   ],
   "source": [
    "df.head()"
   ]
  },
  {
   "cell_type": "code",
   "execution_count": 10,
   "id": "f56c0bff",
   "metadata": {},
   "outputs": [],
   "source": [
    "df.rename(columns = {'raw_BasisForStop':'basis_for_stop', 'raw_OperatorRace':'race', 'raw_OperatorSex':'sex'}, inplace = True)"
   ]
  },
  {
   "cell_type": "code",
   "execution_count": 11,
   "id": "8c9e73fb",
   "metadata": {},
   "outputs": [
    {
     "data": {
      "text/html": [
       "<div>\n",
       "<style scoped>\n",
       "    .dataframe tbody tr th:only-of-type {\n",
       "        vertical-align: middle;\n",
       "    }\n",
       "\n",
       "    .dataframe tbody tr th {\n",
       "        vertical-align: top;\n",
       "    }\n",
       "\n",
       "    .dataframe thead th {\n",
       "        text-align: right;\n",
       "    }\n",
       "</style>\n",
       "<table border=\"1\" class=\"dataframe\">\n",
       "  <thead>\n",
       "    <tr style=\"text-align: right;\">\n",
       "      <th></th>\n",
       "      <th>date</th>\n",
       "      <th>time</th>\n",
       "      <th>zone</th>\n",
       "      <th>arrest_made</th>\n",
       "      <th>outcome</th>\n",
       "      <th>search_conducted</th>\n",
       "      <th>basis_for_stop</th>\n",
       "      <th>race</th>\n",
       "      <th>sex</th>\n",
       "    </tr>\n",
       "  </thead>\n",
       "  <tbody>\n",
       "    <tr>\n",
       "      <th>0</th>\n",
       "      <td>2005-11-22</td>\n",
       "      <td>11:15:00</td>\n",
       "      <td>X3</td>\n",
       "      <td>False</td>\n",
       "      <td>citation</td>\n",
       "      <td>False</td>\n",
       "      <td>SP</td>\n",
       "      <td>W</td>\n",
       "      <td>M</td>\n",
       "    </tr>\n",
       "    <tr>\n",
       "      <th>1</th>\n",
       "      <td>2005-10-01</td>\n",
       "      <td>12:20:00</td>\n",
       "      <td>X3</td>\n",
       "      <td>False</td>\n",
       "      <td>citation</td>\n",
       "      <td>False</td>\n",
       "      <td>SP</td>\n",
       "      <td>W</td>\n",
       "      <td>M</td>\n",
       "    </tr>\n",
       "    <tr>\n",
       "      <th>2</th>\n",
       "      <td>2005-10-01</td>\n",
       "      <td>12:30:00</td>\n",
       "      <td>X3</td>\n",
       "      <td>False</td>\n",
       "      <td>citation</td>\n",
       "      <td>False</td>\n",
       "      <td>SP</td>\n",
       "      <td>W</td>\n",
       "      <td>F</td>\n",
       "    </tr>\n",
       "    <tr>\n",
       "      <th>3</th>\n",
       "      <td>2005-10-01</td>\n",
       "      <td>12:50:00</td>\n",
       "      <td>X3</td>\n",
       "      <td>False</td>\n",
       "      <td>citation</td>\n",
       "      <td>False</td>\n",
       "      <td>SP</td>\n",
       "      <td>W</td>\n",
       "      <td>M</td>\n",
       "    </tr>\n",
       "    <tr>\n",
       "      <th>4</th>\n",
       "      <td>2005-10-01</td>\n",
       "      <td>13:10:00</td>\n",
       "      <td>X3</td>\n",
       "      <td>False</td>\n",
       "      <td>citation</td>\n",
       "      <td>False</td>\n",
       "      <td>SP</td>\n",
       "      <td>W</td>\n",
       "      <td>F</td>\n",
       "    </tr>\n",
       "  </tbody>\n",
       "</table>\n",
       "</div>"
      ],
      "text/plain": [
       "         date      time zone arrest_made   outcome  search_conducted  \\\n",
       "0  2005-11-22  11:15:00   X3       False  citation             False   \n",
       "1  2005-10-01  12:20:00   X3       False  citation             False   \n",
       "2  2005-10-01  12:30:00   X3       False  citation             False   \n",
       "3  2005-10-01  12:50:00   X3       False  citation             False   \n",
       "4  2005-10-01  13:10:00   X3       False  citation             False   \n",
       "\n",
       "  basis_for_stop race sex  \n",
       "0             SP    W   M  \n",
       "1             SP    W   M  \n",
       "2             SP    W   F  \n",
       "3             SP    W   M  \n",
       "4             SP    W   F  "
      ]
     },
     "execution_count": 11,
     "metadata": {},
     "output_type": "execute_result"
    }
   ],
   "source": [
    "df.head()"
   ]
  },
  {
   "cell_type": "markdown",
   "id": "567d6ffe",
   "metadata": {},
   "source": [
    "<h5>Fixing data types</h5>"
   ]
  },
  {
   "cell_type": "code",
   "execution_count": 12,
   "id": "d36e7486",
   "metadata": {
    "scrolled": true
   },
   "outputs": [
    {
     "data": {
      "text/plain": [
       "date                object\n",
       "time                object\n",
       "zone                object\n",
       "arrest_made         object\n",
       "outcome             object\n",
       "search_conducted      bool\n",
       "basis_for_stop      object\n",
       "race                object\n",
       "sex                 object\n",
       "dtype: object"
      ]
     },
     "execution_count": 12,
     "metadata": {},
     "output_type": "execute_result"
    }
   ],
   "source": [
    "df.dtypes"
   ]
  },
  {
   "cell_type": "markdown",
   "id": "4f9b88c4",
   "metadata": {},
   "source": [
    "<h5>Combine column date and time</h5>"
   ]
  },
  {
   "cell_type": "code",
   "execution_count": 13,
   "id": "a74dfd36",
   "metadata": {},
   "outputs": [
    {
     "data": {
      "text/plain": [
       "0         2005-11-22 11:15:00\n",
       "1         2005-10-01 12:20:00\n",
       "2         2005-10-01 12:30:00\n",
       "3         2005-10-01 12:50:00\n",
       "4         2005-10-01 13:10:00\n",
       "                 ...         \n",
       "509676    2015-08-04 10:40:00\n",
       "509677    2015-12-20 11:17:00\n",
       "509678    2015-11-09 23:35:00\n",
       "509679    2015-10-30 11:09:00\n",
       "509680                    NaN\n",
       "Name: date, Length: 509681, dtype: object"
      ]
     },
     "execution_count": 13,
     "metadata": {},
     "output_type": "execute_result"
    }
   ],
   "source": [
    "combined = df.date.str.cat(df.time, sep=' ')\n",
    "combined"
   ]
  },
  {
   "cell_type": "code",
   "execution_count": 14,
   "id": "eb8736da",
   "metadata": {},
   "outputs": [
    {
     "data": {
      "text/html": [
       "<div>\n",
       "<style scoped>\n",
       "    .dataframe tbody tr th:only-of-type {\n",
       "        vertical-align: middle;\n",
       "    }\n",
       "\n",
       "    .dataframe tbody tr th {\n",
       "        vertical-align: top;\n",
       "    }\n",
       "\n",
       "    .dataframe thead th {\n",
       "        text-align: right;\n",
       "    }\n",
       "</style>\n",
       "<table border=\"1\" class=\"dataframe\">\n",
       "  <thead>\n",
       "    <tr style=\"text-align: right;\">\n",
       "      <th></th>\n",
       "      <th>date</th>\n",
       "      <th>time</th>\n",
       "      <th>zone</th>\n",
       "      <th>arrest_made</th>\n",
       "      <th>outcome</th>\n",
       "      <th>search_conducted</th>\n",
       "      <th>basis_for_stop</th>\n",
       "      <th>race</th>\n",
       "      <th>sex</th>\n",
       "      <th>date_and_time</th>\n",
       "    </tr>\n",
       "  </thead>\n",
       "  <tbody>\n",
       "    <tr>\n",
       "      <th>0</th>\n",
       "      <td>2005-11-22</td>\n",
       "      <td>11:15:00</td>\n",
       "      <td>X3</td>\n",
       "      <td>False</td>\n",
       "      <td>citation</td>\n",
       "      <td>False</td>\n",
       "      <td>SP</td>\n",
       "      <td>W</td>\n",
       "      <td>M</td>\n",
       "      <td>2005-11-22 11:15:00</td>\n",
       "    </tr>\n",
       "    <tr>\n",
       "      <th>1</th>\n",
       "      <td>2005-10-01</td>\n",
       "      <td>12:20:00</td>\n",
       "      <td>X3</td>\n",
       "      <td>False</td>\n",
       "      <td>citation</td>\n",
       "      <td>False</td>\n",
       "      <td>SP</td>\n",
       "      <td>W</td>\n",
       "      <td>M</td>\n",
       "      <td>2005-10-01 12:20:00</td>\n",
       "    </tr>\n",
       "    <tr>\n",
       "      <th>2</th>\n",
       "      <td>2005-10-01</td>\n",
       "      <td>12:30:00</td>\n",
       "      <td>X3</td>\n",
       "      <td>False</td>\n",
       "      <td>citation</td>\n",
       "      <td>False</td>\n",
       "      <td>SP</td>\n",
       "      <td>W</td>\n",
       "      <td>F</td>\n",
       "      <td>2005-10-01 12:30:00</td>\n",
       "    </tr>\n",
       "    <tr>\n",
       "      <th>3</th>\n",
       "      <td>2005-10-01</td>\n",
       "      <td>12:50:00</td>\n",
       "      <td>X3</td>\n",
       "      <td>False</td>\n",
       "      <td>citation</td>\n",
       "      <td>False</td>\n",
       "      <td>SP</td>\n",
       "      <td>W</td>\n",
       "      <td>M</td>\n",
       "      <td>2005-10-01 12:50:00</td>\n",
       "    </tr>\n",
       "    <tr>\n",
       "      <th>4</th>\n",
       "      <td>2005-10-01</td>\n",
       "      <td>13:10:00</td>\n",
       "      <td>X3</td>\n",
       "      <td>False</td>\n",
       "      <td>citation</td>\n",
       "      <td>False</td>\n",
       "      <td>SP</td>\n",
       "      <td>W</td>\n",
       "      <td>F</td>\n",
       "      <td>2005-10-01 13:10:00</td>\n",
       "    </tr>\n",
       "  </tbody>\n",
       "</table>\n",
       "</div>"
      ],
      "text/plain": [
       "         date      time zone arrest_made   outcome  search_conducted  \\\n",
       "0  2005-11-22  11:15:00   X3       False  citation             False   \n",
       "1  2005-10-01  12:20:00   X3       False  citation             False   \n",
       "2  2005-10-01  12:30:00   X3       False  citation             False   \n",
       "3  2005-10-01  12:50:00   X3       False  citation             False   \n",
       "4  2005-10-01  13:10:00   X3       False  citation             False   \n",
       "\n",
       "  basis_for_stop race sex       date_and_time  \n",
       "0             SP    W   M 2005-11-22 11:15:00  \n",
       "1             SP    W   M 2005-10-01 12:20:00  \n",
       "2             SP    W   F 2005-10-01 12:30:00  \n",
       "3             SP    W   M 2005-10-01 12:50:00  \n",
       "4             SP    W   F 2005-10-01 13:10:00  "
      ]
     },
     "execution_count": 14,
     "metadata": {},
     "output_type": "execute_result"
    }
   ],
   "source": [
    "df['date_and_time'] = pd.to_datetime(combined)\n",
    "df.head()"
   ]
  },
  {
   "cell_type": "code",
   "execution_count": 15,
   "id": "09308323",
   "metadata": {},
   "outputs": [
    {
     "data": {
      "text/plain": [
       "date                        object\n",
       "time                        object\n",
       "zone                        object\n",
       "arrest_made                 object\n",
       "outcome                     object\n",
       "search_conducted              bool\n",
       "basis_for_stop              object\n",
       "race                        object\n",
       "sex                         object\n",
       "date_and_time       datetime64[ns]\n",
       "dtype: object"
      ]
     },
     "execution_count": 15,
     "metadata": {},
     "output_type": "execute_result"
    }
   ],
   "source": [
    "df.dtypes"
   ]
  },
  {
   "cell_type": "code",
   "execution_count": 16,
   "id": "cb5173b0",
   "metadata": {},
   "outputs": [],
   "source": [
    "df.drop(['date', 'time'], axis=1, inplace=True)"
   ]
  },
  {
   "cell_type": "code",
   "execution_count": 17,
   "id": "02e0f77e",
   "metadata": {},
   "outputs": [
    {
     "data": {
      "text/html": [
       "<div>\n",
       "<style scoped>\n",
       "    .dataframe tbody tr th:only-of-type {\n",
       "        vertical-align: middle;\n",
       "    }\n",
       "\n",
       "    .dataframe tbody tr th {\n",
       "        vertical-align: top;\n",
       "    }\n",
       "\n",
       "    .dataframe thead th {\n",
       "        text-align: right;\n",
       "    }\n",
       "</style>\n",
       "<table border=\"1\" class=\"dataframe\">\n",
       "  <thead>\n",
       "    <tr style=\"text-align: right;\">\n",
       "      <th></th>\n",
       "      <th>zone</th>\n",
       "      <th>arrest_made</th>\n",
       "      <th>outcome</th>\n",
       "      <th>search_conducted</th>\n",
       "      <th>basis_for_stop</th>\n",
       "      <th>race</th>\n",
       "      <th>sex</th>\n",
       "      <th>date_and_time</th>\n",
       "    </tr>\n",
       "  </thead>\n",
       "  <tbody>\n",
       "    <tr>\n",
       "      <th>0</th>\n",
       "      <td>X3</td>\n",
       "      <td>False</td>\n",
       "      <td>citation</td>\n",
       "      <td>False</td>\n",
       "      <td>SP</td>\n",
       "      <td>W</td>\n",
       "      <td>M</td>\n",
       "      <td>2005-11-22 11:15:00</td>\n",
       "    </tr>\n",
       "    <tr>\n",
       "      <th>1</th>\n",
       "      <td>X3</td>\n",
       "      <td>False</td>\n",
       "      <td>citation</td>\n",
       "      <td>False</td>\n",
       "      <td>SP</td>\n",
       "      <td>W</td>\n",
       "      <td>M</td>\n",
       "      <td>2005-10-01 12:20:00</td>\n",
       "    </tr>\n",
       "    <tr>\n",
       "      <th>2</th>\n",
       "      <td>X3</td>\n",
       "      <td>False</td>\n",
       "      <td>citation</td>\n",
       "      <td>False</td>\n",
       "      <td>SP</td>\n",
       "      <td>W</td>\n",
       "      <td>F</td>\n",
       "      <td>2005-10-01 12:30:00</td>\n",
       "    </tr>\n",
       "    <tr>\n",
       "      <th>3</th>\n",
       "      <td>X3</td>\n",
       "      <td>False</td>\n",
       "      <td>citation</td>\n",
       "      <td>False</td>\n",
       "      <td>SP</td>\n",
       "      <td>W</td>\n",
       "      <td>M</td>\n",
       "      <td>2005-10-01 12:50:00</td>\n",
       "    </tr>\n",
       "    <tr>\n",
       "      <th>4</th>\n",
       "      <td>X3</td>\n",
       "      <td>False</td>\n",
       "      <td>citation</td>\n",
       "      <td>False</td>\n",
       "      <td>SP</td>\n",
       "      <td>W</td>\n",
       "      <td>F</td>\n",
       "      <td>2005-10-01 13:10:00</td>\n",
       "    </tr>\n",
       "  </tbody>\n",
       "</table>\n",
       "</div>"
      ],
      "text/plain": [
       "  zone arrest_made   outcome  search_conducted basis_for_stop race sex  \\\n",
       "0   X3       False  citation             False             SP    W   M   \n",
       "1   X3       False  citation             False             SP    W   M   \n",
       "2   X3       False  citation             False             SP    W   F   \n",
       "3   X3       False  citation             False             SP    W   M   \n",
       "4   X3       False  citation             False             SP    W   F   \n",
       "\n",
       "        date_and_time  \n",
       "0 2005-11-22 11:15:00  \n",
       "1 2005-10-01 12:20:00  \n",
       "2 2005-10-01 12:30:00  \n",
       "3 2005-10-01 12:50:00  \n",
       "4 2005-10-01 13:10:00  "
      ]
     },
     "execution_count": 17,
     "metadata": {},
     "output_type": "execute_result"
    }
   ],
   "source": [
    "df.head()"
   ]
  },
  {
   "cell_type": "code",
   "execution_count": 18,
   "id": "82971ff7",
   "metadata": {},
   "outputs": [],
   "source": [
    "df.rename(columns = {'subject_age':'age', 'subject_race':'race', 'subject_sex':'sex'}, inplace = True)"
   ]
  },
  {
   "cell_type": "code",
   "execution_count": 19,
   "id": "76740e7d",
   "metadata": {
    "scrolled": true
   },
   "outputs": [
    {
     "data": {
      "image/png": "[encoded data removed]",
      "text/plain": [
       "<Figure size 432x288 with 1 Axes>"
      ]
     },
     "metadata": {
      "needs_background": "light"
     },
     "output_type": "display_data"
    }
   ],
   "source": [
    "sns.heatmap(df.isnull(), cbar=False)\n",
    "plt.show()"
   ]
  },
  {
   "cell_type": "code",
   "execution_count": 20,
   "id": "67de002f",
   "metadata": {},
   "outputs": [],
   "source": [
    "df['arrest_made'] = df['arrest_made'].astype('bool')\n",
    "df['search_conducted'] = df['search_conducted'].astype('bool')"
   ]
  },
  {
   "cell_type": "code",
   "execution_count": 21,
   "id": "a83c6878",
   "metadata": {},
   "outputs": [],
   "source": [
    "df['arrest_made'] = pd.get_dummies(df['arrest_made'], drop_first=True)\n",
    "df['search_conducted'] = pd.get_dummies(df['search_conducted'], drop_first=True)"
   ]
  },
  {
   "cell_type": "code",
   "execution_count": 22,
   "id": "dca8cda8",
   "metadata": {},
   "outputs": [],
   "source": [
    "df.dropna(inplace=True)"
   ]
  },
  {
   "cell_type": "markdown",
   "id": "ae742fc7",
   "metadata": {},
   "source": [
    "<h4>NOTED</h4>\n",
    "in this data set we analyze only vehicle fault policy activity"
   ]
  },
  {
   "cell_type": "markdown",
   "id": "66335dba",
   "metadata": {},
   "source": [
    "# EDA"
   ]
  },
  {
   "cell_type": "markdown",
   "id": "55a85be1",
   "metadata": {},
   "source": [
    "### Visualizing the correlation matrix"
   ]
  },
  {
   "cell_type": "code",
   "execution_count": 23,
   "id": "d65fd5c0",
   "metadata": {
    "scrolled": true
   },
   "outputs": [
    {
     "data": {
      "image/png": "[encoded data removed]",
      "text/plain": [
       "<Figure size 432x288 with 2 Axes>"
      ]
     },
     "metadata": {
      "needs_background": "light"
     },
     "output_type": "display_data"
    }
   ],
   "source": [
    "corr = df.corr()\n",
    "sns.heatmap(corr, annot=True)\n",
    "plt.show()"
   ]
  },
  {
   "cell_type": "markdown",
   "id": "40491bbe",
   "metadata": {},
   "source": [
    "<b>Interpretation</b><br>\n",
    "search_conducted and arrest_made have low correlation"
   ]
  },
  {
   "cell_type": "markdown",
   "id": "d32f6cda",
   "metadata": {},
   "source": [
    "<b>Question</b> : Do the race commit different violations?"
   ]
  },
  {
   "cell_type": "code",
   "execution_count": 24,
   "id": "981061a4",
   "metadata": {
    "scrolled": true
   },
   "outputs": [
    {
     "data": {
      "text/plain": [
       "SP    268211\n",
       "OT     89606\n",
       "EQ     58251\n",
       "RV     19598\n",
       "SB     16274\n",
       "SD     13456\n",
       "CS      6288\n",
       "VO      1020\n",
       "AP       445\n",
       "MO       365\n",
       "SU       221\n",
       "WA       105\n",
       "Name: basis_for_stop, dtype: int64"
      ]
     },
     "execution_count": 24,
     "metadata": {},
     "output_type": "execute_result"
    }
   ],
   "source": [
    "df['basis_for_stop'].value_counts()"
   ]
  },
  {
   "cell_type": "code",
   "execution_count": 25,
   "id": "aa7787fb",
   "metadata": {},
   "outputs": [
    {
     "data": {
      "text/plain": [
       "(473840, 8)"
      ]
     },
     "execution_count": 25,
     "metadata": {},
     "output_type": "execute_result"
    }
   ],
   "source": [
    "df.shape"
   ]
  },
  {
   "cell_type": "code",
   "execution_count": 26,
   "id": "0682e060",
   "metadata": {},
   "outputs": [
    {
     "data": {
      "text/plain": [
       "0.5660370589228432"
      ]
     },
     "execution_count": 26,
     "metadata": {},
     "output_type": "execute_result"
    }
   ],
   "source": [
    "268211/473840"
   ]
  },
  {
   "cell_type": "code",
   "execution_count": 27,
   "id": "1a9cd5d0",
   "metadata": {},
   "outputs": [
    {
     "data": {
      "text/plain": [
       "SP    0.566037\n",
       "OT    0.189106\n",
       "EQ    0.122934\n",
       "RV    0.041360\n",
       "SB    0.034345\n",
       "SD    0.028398\n",
       "CS    0.013270\n",
       "VO    0.002153\n",
       "AP    0.000939\n",
       "MO    0.000770\n",
       "SU    0.000466\n",
       "WA    0.000222\n",
       "Name: basis_for_stop, dtype: float64"
      ]
     },
     "execution_count": 27,
     "metadata": {},
     "output_type": "execute_result"
    }
   ],
   "source": [
    "df['basis_for_stop'].value_counts(normalize=True)"
   ]
  },
  {
   "cell_type": "code",
   "execution_count": 28,
   "id": "3ae2a968",
   "metadata": {
    "scrolled": true
   },
   "outputs": [
    {
     "data": {
      "text/plain": [
       "W    340148\n",
       "B     67473\n",
       "H     43297\n",
       "I     12690\n",
       "L      8905\n",
       "O       806\n",
       "N       521\n",
       "Name: race, dtype: int64"
      ]
     },
     "execution_count": 28,
     "metadata": {},
     "output_type": "execute_result"
    }
   ],
   "source": [
    "df['race'].value_counts()"
   ]
  },
  {
   "cell_type": "code",
   "execution_count": 29,
   "id": "0751411b",
   "metadata": {},
   "outputs": [
    {
     "data": {
      "text/plain": [
       "(340148, 8)"
      ]
     },
     "execution_count": 29,
     "metadata": {},
     "output_type": "execute_result"
    }
   ],
   "source": [
    "white = df[df['race'] == 'W']\n",
    "white.shape"
   ]
  },
  {
   "cell_type": "markdown",
   "id": "b44a6baf",
   "metadata": {},
   "source": [
    "Race White have 340148 proportion"
   ]
  },
  {
   "cell_type": "code",
   "execution_count": 30,
   "id": "ce664739",
   "metadata": {
    "scrolled": false
   },
   "outputs": [
    {
     "data": {
      "text/plain": [
       "SP    0.625269\n",
       "OT    0.172313\n",
       "EQ    0.099774\n",
       "RV    0.031201\n",
       "SB    0.031025\n",
       "SD    0.023966\n",
       "CS    0.012039\n",
       "VO    0.002046\n",
       "AP    0.000961\n",
       "MO    0.000714\n",
       "SU    0.000479\n",
       "WA    0.000212\n",
       "Name: basis_for_stop, dtype: float64"
      ]
     },
     "execution_count": 30,
     "metadata": {},
     "output_type": "execute_result"
    }
   ],
   "source": [
    "white['basis_for_stop'].value_counts(normalize=True)"
   ]
  },
  {
   "cell_type": "code",
   "execution_count": 31,
   "id": "1bdc6427",
   "metadata": {},
   "outputs": [
    {
     "data": {
      "text/plain": [
       "(12690, 8)"
      ]
     },
     "execution_count": 31,
     "metadata": {},
     "output_type": "execute_result"
    }
   ],
   "source": [
    "asian = df[df['race'] == 'I']\n",
    "asian.shape"
   ]
  },
  {
   "cell_type": "markdown",
   "id": "2cddf137",
   "metadata": {},
   "source": [
    "Race Asian have 12690 proportion"
   ]
  },
  {
   "cell_type": "code",
   "execution_count": 32,
   "id": "c17dc371",
   "metadata": {},
   "outputs": [
    {
     "data": {
      "text/plain": [
       "SP    0.688652\n",
       "OT    0.142711\n",
       "EQ    0.084870\n",
       "RV    0.028369\n",
       "SB    0.020961\n",
       "SD    0.019622\n",
       "CS    0.012214\n",
       "VO    0.001182\n",
       "MO    0.000552\n",
       "AP    0.000394\n",
       "WA    0.000236\n",
       "SU    0.000236\n",
       "Name: basis_for_stop, dtype: float64"
      ]
     },
     "execution_count": 32,
     "metadata": {},
     "output_type": "execute_result"
    }
   ],
   "source": [
    "asian['basis_for_stop'].value_counts(normalize=True)"
   ]
  },
  {
   "cell_type": "code",
   "execution_count": 33,
   "id": "1a2a54c3",
   "metadata": {},
   "outputs": [
    {
     "data": {
      "text/plain": [
       "(67473, 8)"
      ]
     },
     "execution_count": 33,
     "metadata": {},
     "output_type": "execute_result"
    }
   ],
   "source": [
    "black = df[df['race'] == 'B']\n",
    "black.shape"
   ]
  },
  {
   "cell_type": "markdown",
   "id": "3b4d8ac3",
   "metadata": {},
   "source": [
    "Race Black have 67473 proportion"
   ]
  },
  {
   "cell_type": "code",
   "execution_count": 34,
   "id": "0e118606",
   "metadata": {},
   "outputs": [
    {
     "data": {
      "text/plain": [
       "SP    0.418019\n",
       "OT    0.235516\n",
       "EQ    0.175018\n",
       "RV    0.068131\n",
       "SD    0.049116\n",
       "SB    0.036059\n",
       "CS    0.013131\n",
       "VO    0.002668\n",
       "MO    0.000904\n",
       "AP    0.000815\n",
       "SU    0.000415\n",
       "WA    0.000207\n",
       "Name: basis_for_stop, dtype: float64"
      ]
     },
     "execution_count": 34,
     "metadata": {},
     "output_type": "execute_result"
    }
   ],
   "source": [
    "black['basis_for_stop'].value_counts(normalize=True)"
   ]
  },
  {
   "cell_type": "markdown",
   "id": "c83de745",
   "metadata": {},
   "source": [
    "<b>Answer</b> : Race has no significant effect on violations. most average people commit speeding offences but black races have quite significant Traffic and Equipment Offenses."
   ]
  },
  {
   "cell_type": "markdown",
   "id": "4a1e926b",
   "metadata": {},
   "source": [
    "<b>Question</b> : Do the Gender commit different violations?"
   ]
  },
  {
   "cell_type": "code",
   "execution_count": 35,
   "id": "8730e6c5",
   "metadata": {},
   "outputs": [
    {
     "data": {
      "text/plain": [
       "Index(['zone', 'arrest_made', 'outcome', 'search_conducted', 'basis_for_stop',\n",
       "       'race', 'sex', 'date_and_time'],\n",
       "      dtype='object')"
      ]
     },
     "execution_count": 35,
     "metadata": {},
     "output_type": "execute_result"
    }
   ],
   "source": [
    "df.columns"
   ]
  },
  {
   "cell_type": "code",
   "execution_count": 36,
   "id": "b5255ab1",
   "metadata": {},
   "outputs": [
    {
     "data": {
      "text/plain": [
       "(344589, 8)"
      ]
     },
     "execution_count": 36,
     "metadata": {},
     "output_type": "execute_result"
    }
   ],
   "source": [
    "male = df[df['sex'] == 'M']\n",
    "male.shape"
   ]
  },
  {
   "cell_type": "markdown",
   "id": "cd91e0a0",
   "metadata": {},
   "source": [
    "Sex male have 344589 proportions"
   ]
  },
  {
   "cell_type": "code",
   "execution_count": 37,
   "id": "58addcc0",
   "metadata": {},
   "outputs": [
    {
     "data": {
      "text/plain": [
       "SP    0.528537\n",
       "OT    0.208428\n",
       "EQ    0.130460\n",
       "RV    0.040605\n",
       "SD    0.037131\n",
       "SB    0.036934\n",
       "CS    0.012992\n",
       "VO    0.002348\n",
       "AP    0.000998\n",
       "MO    0.000815\n",
       "SU    0.000514\n",
       "WA    0.000238\n",
       "Name: basis_for_stop, dtype: float64"
      ]
     },
     "execution_count": 37,
     "metadata": {},
     "output_type": "execute_result"
    }
   ],
   "source": [
    "male['basis_for_stop'].value_counts(normalize=True)"
   ]
  },
  {
   "cell_type": "code",
   "execution_count": 38,
   "id": "a6489565",
   "metadata": {},
   "outputs": [
    {
     "data": {
      "text/plain": [
       "(129232, 8)"
      ]
     },
     "execution_count": 38,
     "metadata": {},
     "output_type": "execute_result"
    }
   ],
   "source": [
    "female = df[df['sex'] == 'F']\n",
    "female.shape"
   ]
  },
  {
   "cell_type": "markdown",
   "id": "5961b988",
   "metadata": {},
   "source": [
    "Sex female have 129232 proportions"
   ]
  },
  {
   "cell_type": "code",
   "execution_count": 39,
   "id": "9487ac42",
   "metadata": {},
   "outputs": [
    {
     "data": {
      "text/plain": [
       "SP    0.666050\n",
       "OT    0.137567\n",
       "EQ    0.102869\n",
       "RV    0.043379\n",
       "SB    0.027424\n",
       "CS    0.014014\n",
       "SD    0.005115\n",
       "VO    0.001633\n",
       "AP    0.000782\n",
       "MO    0.000650\n",
       "SU    0.000340\n",
       "WA    0.000178\n",
       "Name: basis_for_stop, dtype: float64"
      ]
     },
     "execution_count": 39,
     "metadata": {},
     "output_type": "execute_result"
    }
   ],
   "source": [
    "female['basis_for_stop'].value_counts(normalize=True)"
   ]
  },
  {
   "cell_type": "markdown",
   "id": "9a343194",
   "metadata": {},
   "source": [
    "<b>Answer</b> : Sex has no significant effect on violations. most average people commit speeding offences, Traffic violation and Equipment. Male often violate compared to female "
   ]
  },
  {
   "cell_type": "markdown",
   "id": "991e964a",
   "metadata": {},
   "source": [
    "<b>Question</b> : Does gender affect whose vehicle is arrested?"
   ]
  },
  {
   "cell_type": "code",
   "execution_count": 40,
   "id": "1ea9e428",
   "metadata": {
    "scrolled": true
   },
   "outputs": [
    {
     "data": {
      "text/html": [
       "<div>\n",
       "<style scoped>\n",
       "    .dataframe tbody tr th:only-of-type {\n",
       "        vertical-align: middle;\n",
       "    }\n",
       "\n",
       "    .dataframe tbody tr th {\n",
       "        vertical-align: top;\n",
       "    }\n",
       "\n",
       "    .dataframe thead th {\n",
       "        text-align: right;\n",
       "    }\n",
       "</style>\n",
       "<table border=\"1\" class=\"dataframe\">\n",
       "  <thead>\n",
       "    <tr style=\"text-align: right;\">\n",
       "      <th></th>\n",
       "      <th>zone</th>\n",
       "      <th>arrest_made</th>\n",
       "      <th>outcome</th>\n",
       "      <th>search_conducted</th>\n",
       "      <th>basis_for_stop</th>\n",
       "      <th>race</th>\n",
       "      <th>sex</th>\n",
       "      <th>date_and_time</th>\n",
       "    </tr>\n",
       "  </thead>\n",
       "  <tbody>\n",
       "    <tr>\n",
       "      <th>0</th>\n",
       "      <td>X3</td>\n",
       "      <td>0</td>\n",
       "      <td>citation</td>\n",
       "      <td>0</td>\n",
       "      <td>SP</td>\n",
       "      <td>W</td>\n",
       "      <td>M</td>\n",
       "      <td>2005-11-22 11:15:00</td>\n",
       "    </tr>\n",
       "    <tr>\n",
       "      <th>1</th>\n",
       "      <td>X3</td>\n",
       "      <td>0</td>\n",
       "      <td>citation</td>\n",
       "      <td>0</td>\n",
       "      <td>SP</td>\n",
       "      <td>W</td>\n",
       "      <td>M</td>\n",
       "      <td>2005-10-01 12:20:00</td>\n",
       "    </tr>\n",
       "    <tr>\n",
       "      <th>2</th>\n",
       "      <td>X3</td>\n",
       "      <td>0</td>\n",
       "      <td>citation</td>\n",
       "      <td>0</td>\n",
       "      <td>SP</td>\n",
       "      <td>W</td>\n",
       "      <td>F</td>\n",
       "      <td>2005-10-01 12:30:00</td>\n",
       "    </tr>\n",
       "    <tr>\n",
       "      <th>3</th>\n",
       "      <td>X3</td>\n",
       "      <td>0</td>\n",
       "      <td>citation</td>\n",
       "      <td>0</td>\n",
       "      <td>SP</td>\n",
       "      <td>W</td>\n",
       "      <td>M</td>\n",
       "      <td>2005-10-01 12:50:00</td>\n",
       "    </tr>\n",
       "    <tr>\n",
       "      <th>4</th>\n",
       "      <td>X3</td>\n",
       "      <td>0</td>\n",
       "      <td>citation</td>\n",
       "      <td>0</td>\n",
       "      <td>SP</td>\n",
       "      <td>W</td>\n",
       "      <td>F</td>\n",
       "      <td>2005-10-01 13:10:00</td>\n",
       "    </tr>\n",
       "  </tbody>\n",
       "</table>\n",
       "</div>"
      ],
      "text/plain": [
       "  zone  arrest_made   outcome  search_conducted basis_for_stop race sex  \\\n",
       "0   X3            0  citation                 0             SP    W   M   \n",
       "1   X3            0  citation                 0             SP    W   M   \n",
       "2   X3            0  citation                 0             SP    W   F   \n",
       "3   X3            0  citation                 0             SP    W   M   \n",
       "4   X3            0  citation                 0             SP    W   F   \n",
       "\n",
       "        date_and_time  \n",
       "0 2005-11-22 11:15:00  \n",
       "1 2005-10-01 12:20:00  \n",
       "2 2005-10-01 12:30:00  \n",
       "3 2005-10-01 12:50:00  \n",
       "4 2005-10-01 13:10:00  "
      ]
     },
     "execution_count": 40,
     "metadata": {},
     "output_type": "execute_result"
    }
   ],
   "source": [
    "df.head()"
   ]
  },
  {
   "cell_type": "code",
   "execution_count": 41,
   "id": "34fc2677",
   "metadata": {},
   "outputs": [
    {
     "data": {
      "text/plain": [
       "(473840,)"
      ]
     },
     "execution_count": 41,
     "metadata": {},
     "output_type": "execute_result"
    }
   ],
   "source": [
    "df['arrest_made'].shape"
   ]
  },
  {
   "cell_type": "code",
   "execution_count": 42,
   "id": "80fc7280",
   "metadata": {
    "scrolled": true
   },
   "outputs": [
    {
     "data": {
      "text/plain": [
       "0    0.964961\n",
       "1    0.035039\n",
       "Name: arrest_made, dtype: float64"
      ]
     },
     "execution_count": 42,
     "metadata": {},
     "output_type": "execute_result"
    }
   ],
   "source": [
    "df['arrest_made'].value_counts(normalize=True)"
   ]
  },
  {
   "cell_type": "code",
   "execution_count": 43,
   "id": "4e6bca82",
   "metadata": {},
   "outputs": [],
   "source": [
    "df['arrest_made'] = df['arrest_made'].astype('bool')"
   ]
  },
  {
   "cell_type": "code",
   "execution_count": 44,
   "id": "66c5f61a",
   "metadata": {},
   "outputs": [
    {
     "data": {
      "text/plain": [
       "dtype('bool')"
      ]
     },
     "execution_count": 44,
     "metadata": {},
     "output_type": "execute_result"
    }
   ],
   "source": [
    "df['arrest_made'].dtypes"
   ]
  },
  {
   "cell_type": "code",
   "execution_count": 45,
   "id": "2d2aafd2",
   "metadata": {},
   "outputs": [],
   "source": [
    "male_is_arrested = (df['sex'] == 'M') & (df['arrest_made'] == True)\n",
    "female_is_arrested = (df['sex'] == 'F') & (df['arrest_made'] == True)"
   ]
  },
  {
   "cell_type": "code",
   "execution_count": 46,
   "id": "d6b27ad1",
   "metadata": {
    "scrolled": false
   },
   "outputs": [
    {
     "name": "stdout",
     "output_type": "stream",
     "text": [
      "Avg Male is arrested : 0.027984129664021612 and Avg Female is arrested : 0.007055124092520682\n"
     ]
    }
   ],
   "source": [
    "print(\"Avg Male is arrested : {} and Avg Female is arrested : {}\".format(male_is_arrested.mean(), female_is_arrested.mean()))"
   ]
  },
  {
   "cell_type": "markdown",
   "id": "6301f035",
   "metadata": {},
   "source": [
    "<b>Answer</b> : Yes, on average male are arrested more than female. this may be related to the previous interpretation, namely that female are less likely to commit violations than male."
   ]
  },
  {
   "cell_type": "markdown",
   "id": "9b45d3e9",
   "metadata": {},
   "source": [
    "<b>Question</b> : what about the zones where there are frequent arrests ?"
   ]
  },
  {
   "cell_type": "code",
   "execution_count": 47,
   "id": "9ddff1cb",
   "metadata": {
    "scrolled": true
   },
   "outputs": [
    {
     "data": {
      "text/plain": [
       "zone\n",
       "K1    0.024499\n",
       "K2    0.028322\n",
       "K3    0.032482\n",
       "X1    0.026585\n",
       "X3    0.033758\n",
       "X4    0.048213\n",
       "Name: arrest_made, dtype: float64"
      ]
     },
     "execution_count": 47,
     "metadata": {},
     "output_type": "execute_result"
    }
   ],
   "source": [
    "df.groupby('zone')['arrest_made'].mean()"
   ]
  },
  {
   "cell_type": "markdown",
   "id": "3887ef6e",
   "metadata": {},
   "source": [
    "<b>Answer</b> : zone X4 has the highest number of arrests and zone K1 has the lowest number of arrests"
   ]
  },
  {
   "cell_type": "markdown",
   "id": "3d3dcf16",
   "metadata": {},
   "source": [
    "<b>Question</b> : what about the gender and zone arrested ?"
   ]
  },
  {
   "cell_type": "code",
   "execution_count": 48,
   "id": "40d00540",
   "metadata": {},
   "outputs": [
    {
     "data": {
      "text/plain": [
       "sex  zone\n",
       "F    K1      0.015648\n",
       "     K2      0.019656\n",
       "     K3      0.022962\n",
       "     X1      0.020974\n",
       "     X3      0.026450\n",
       "     X4      0.038952\n",
       "M    K1      0.028310\n",
       "     K2      0.031846\n",
       "     K3      0.035951\n",
       "     X1      0.028033\n",
       "     X3      0.036853\n",
       "     X4      0.051205\n",
       "U    K1      0.000000\n",
       "     K2      0.000000\n",
       "     K3      0.000000\n",
       "     X3      0.000000\n",
       "     X4      0.000000\n",
       "Name: arrest_made, dtype: float64"
      ]
     },
     "execution_count": 48,
     "metadata": {},
     "output_type": "execute_result"
    }
   ],
   "source": [
    "df.groupby(['sex', 'zone'])['arrest_made'].mean()"
   ]
  },
  {
   "cell_type": "markdown",
   "id": "1f4f52ed",
   "metadata": {},
   "source": [
    "<b>Answer</b> : In each zone Male always commit the most violations than Female"
   ]
  },
  {
   "cell_type": "markdown",
   "id": "98779e52",
   "metadata": {},
   "source": [
    "<b>Question</b> : Does gender affect who is frisked during a search ?"
   ]
  },
  {
   "cell_type": "code",
   "execution_count": 49,
   "id": "37e69758",
   "metadata": {},
   "outputs": [
    {
     "data": {
      "text/plain": [
       "0    456509\n",
       "1     17331\n",
       "Name: search_conducted, dtype: int64"
      ]
     },
     "execution_count": 49,
     "metadata": {},
     "output_type": "execute_result"
    }
   ],
   "source": [
    "df['search_conducted'].value_counts()"
   ]
  },
  {
   "cell_type": "code",
   "execution_count": 50,
   "id": "cc9fff47",
   "metadata": {},
   "outputs": [],
   "source": [
    "male_search = (df['sex'] == 'M') & (df['search_conducted'] == True)\n",
    "female_search = (df['sex'] == 'F') & (df['search_conducted'] == True)"
   ]
  },
  {
   "cell_type": "code",
   "execution_count": 51,
   "id": "f290c467",
   "metadata": {},
   "outputs": [
    {
     "name": "stdout",
     "output_type": "stream",
     "text": [
      "Avg Male was searched : 0.031514857335809554 and Avg Female was searched : 0.005060780010130002\n"
     ]
    }
   ],
   "source": [
    "print(\"Avg Male was searched : {} and Avg Female was searched : {}\".format(male_search.mean(), female_search.mean()))"
   ]
  },
  {
   "cell_type": "markdown",
   "id": "59f6b624",
   "metadata": {},
   "source": [
    "<b>Answer</b> : Male gender is the most frequently searched than Female. maybe because Male often commit violations so the police are more suspicious of Male than Female"
   ]
  },
  {
   "cell_type": "markdown",
   "id": "1c0c9271",
   "metadata": {},
   "source": [
    "<b>Question</b> : Does time of day affect arrest rate?"
   ]
  },
  {
   "cell_type": "code",
   "execution_count": 52,
   "id": "f26ea39e",
   "metadata": {
    "scrolled": true
   },
   "outputs": [
    {
     "data": {
      "text/html": [
       "<div>\n",
       "<style scoped>\n",
       "    .dataframe tbody tr th:only-of-type {\n",
       "        vertical-align: middle;\n",
       "    }\n",
       "\n",
       "    .dataframe tbody tr th {\n",
       "        vertical-align: top;\n",
       "    }\n",
       "\n",
       "    .dataframe thead th {\n",
       "        text-align: right;\n",
       "    }\n",
       "</style>\n",
       "<table border=\"1\" class=\"dataframe\">\n",
       "  <thead>\n",
       "    <tr style=\"text-align: right;\">\n",
       "      <th></th>\n",
       "      <th>zone</th>\n",
       "      <th>arrest_made</th>\n",
       "      <th>outcome</th>\n",
       "      <th>search_conducted</th>\n",
       "      <th>basis_for_stop</th>\n",
       "      <th>race</th>\n",
       "      <th>sex</th>\n",
       "      <th>date_and_time</th>\n",
       "    </tr>\n",
       "  </thead>\n",
       "  <tbody>\n",
       "    <tr>\n",
       "      <th>0</th>\n",
       "      <td>X3</td>\n",
       "      <td>False</td>\n",
       "      <td>citation</td>\n",
       "      <td>0</td>\n",
       "      <td>SP</td>\n",
       "      <td>W</td>\n",
       "      <td>M</td>\n",
       "      <td>2005-11-22 11:15:00</td>\n",
       "    </tr>\n",
       "    <tr>\n",
       "      <th>1</th>\n",
       "      <td>X3</td>\n",
       "      <td>False</td>\n",
       "      <td>citation</td>\n",
       "      <td>0</td>\n",
       "      <td>SP</td>\n",
       "      <td>W</td>\n",
       "      <td>M</td>\n",
       "      <td>2005-10-01 12:20:00</td>\n",
       "    </tr>\n",
       "    <tr>\n",
       "      <th>2</th>\n",
       "      <td>X3</td>\n",
       "      <td>False</td>\n",
       "      <td>citation</td>\n",
       "      <td>0</td>\n",
       "      <td>SP</td>\n",
       "      <td>W</td>\n",
       "      <td>F</td>\n",
       "      <td>2005-10-01 12:30:00</td>\n",
       "    </tr>\n",
       "    <tr>\n",
       "      <th>3</th>\n",
       "      <td>X3</td>\n",
       "      <td>False</td>\n",
       "      <td>citation</td>\n",
       "      <td>0</td>\n",
       "      <td>SP</td>\n",
       "      <td>W</td>\n",
       "      <td>M</td>\n",
       "      <td>2005-10-01 12:50:00</td>\n",
       "    </tr>\n",
       "    <tr>\n",
       "      <th>4</th>\n",
       "      <td>X3</td>\n",
       "      <td>False</td>\n",
       "      <td>citation</td>\n",
       "      <td>0</td>\n",
       "      <td>SP</td>\n",
       "      <td>W</td>\n",
       "      <td>F</td>\n",
       "      <td>2005-10-01 13:10:00</td>\n",
       "    </tr>\n",
       "  </tbody>\n",
       "</table>\n",
       "</div>"
      ],
      "text/plain": [
       "  zone  arrest_made   outcome  search_conducted basis_for_stop race sex  \\\n",
       "0   X3        False  citation                 0             SP    W   M   \n",
       "1   X3        False  citation                 0             SP    W   M   \n",
       "2   X3        False  citation                 0             SP    W   F   \n",
       "3   X3        False  citation                 0             SP    W   M   \n",
       "4   X3        False  citation                 0             SP    W   F   \n",
       "\n",
       "        date_and_time  \n",
       "0 2005-11-22 11:15:00  \n",
       "1 2005-10-01 12:20:00  \n",
       "2 2005-10-01 12:30:00  \n",
       "3 2005-10-01 12:50:00  \n",
       "4 2005-10-01 13:10:00  "
      ]
     },
     "execution_count": 52,
     "metadata": {},
     "output_type": "execute_result"
    }
   ],
   "source": [
    "df.head()"
   ]
  },
  {
   "cell_type": "code",
   "execution_count": 53,
   "id": "1d775b59",
   "metadata": {},
   "outputs": [
    {
     "data": {
      "text/plain": [
       "0         11\n",
       "1         12\n",
       "2         12\n",
       "3         12\n",
       "4         13\n",
       "          ..\n",
       "509673    11\n",
       "509676    10\n",
       "509677    11\n",
       "509678    23\n",
       "509679    11\n",
       "Name: date_and_time, Length: 473840, dtype: int64"
      ]
     },
     "execution_count": 53,
     "metadata": {},
     "output_type": "execute_result"
    }
   ],
   "source": [
    "df.date_and_time.dt.hour"
   ]
  },
  {
   "cell_type": "code",
   "execution_count": 54,
   "id": "d32f1240",
   "metadata": {},
   "outputs": [
    {
     "data": {
      "text/plain": [
       "DatetimeIndex(['2005-11-22 11:15:00', '2005-10-01 12:20:00',\n",
       "               '2005-10-01 12:30:00', '2005-10-01 12:50:00',\n",
       "               '2005-10-01 13:10:00', '2005-10-01 15:50:00',\n",
       "               '2005-09-11 11:45:00', '2005-09-11 11:45:00',\n",
       "               '2005-10-04 11:55:00', '2005-10-04 11:55:00',\n",
       "               ...\n",
       "               '2015-12-28 00:10:00', '2015-12-29 13:28:00',\n",
       "               '2015-12-27 12:45:00', '2015-12-27 13:43:00',\n",
       "               '2015-12-28 02:29:00', '2015-12-30 11:42:00',\n",
       "               '2015-08-04 10:40:00', '2015-12-20 11:17:00',\n",
       "               '2015-11-09 23:35:00', '2015-10-30 11:09:00'],\n",
       "              dtype='datetime64[ns]', name='date_and_time', length=473840, freq=None)"
      ]
     },
     "execution_count": 54,
     "metadata": {},
     "output_type": "execute_result"
    }
   ],
   "source": [
    "df.set_index('date_and_time', inplace=True)\n",
    "df.index"
   ]
  },
  {
   "cell_type": "code",
   "execution_count": 55,
   "id": "719670e2",
   "metadata": {},
   "outputs": [
    {
     "data": {
      "text/plain": [
       "Int64Index([11, 12, 12, 12, 13, 15, 11, 11, 11, 11,\n",
       "            ...\n",
       "             0, 13, 12, 13,  2, 11, 10, 11, 23, 11],\n",
       "           dtype='int64', name='date_and_time', length=473840)"
      ]
     },
     "execution_count": 55,
     "metadata": {},
     "output_type": "execute_result"
    }
   ],
   "source": [
    "df.index.hour"
   ]
  },
  {
   "cell_type": "code",
   "execution_count": 56,
   "id": "3622060f",
   "metadata": {},
   "outputs": [
    {
     "data": {
      "text/plain": [
       "date_and_time\n",
       "0     0.053283\n",
       "1     0.068641\n",
       "2     0.062289\n",
       "3     0.053638\n",
       "4     0.055306\n",
       "5     0.033394\n",
       "6     0.013098\n",
       "7     0.014010\n",
       "8     0.019942\n",
       "9     0.024933\n",
       "10    0.025823\n",
       "11    0.027322\n",
       "12    0.031717\n",
       "13    0.030572\n",
       "14    0.031925\n",
       "15    0.032573\n",
       "16    0.034051\n",
       "17    0.039632\n",
       "18    0.040474\n",
       "19    0.031799\n",
       "20    0.039865\n",
       "21    0.061108\n",
       "22    0.044777\n",
       "23    0.046016\n",
       "Name: arrest_made, dtype: float64"
      ]
     },
     "execution_count": 56,
     "metadata": {},
     "output_type": "execute_result"
    }
   ],
   "source": [
    "df.groupby(df.index.hour)['arrest_made'].mean()"
   ]
  },
  {
   "cell_type": "code",
   "execution_count": 57,
   "id": "dcceb548",
   "metadata": {},
   "outputs": [],
   "source": [
    "time_is_arrested = df.groupby(df.index.hour)['arrest_made'].mean()"
   ]
  },
  {
   "cell_type": "code",
   "execution_count": 58,
   "id": "c76796e4",
   "metadata": {},
   "outputs": [],
   "source": [
    "month_is_arrested = df.groupby(df.index.month)['arrest_made'].mean()"
   ]
  },
  {
   "cell_type": "code",
   "execution_count": 59,
   "id": "c758776c",
   "metadata": {},
   "outputs": [],
   "source": [
    "day_is_arrested = df.groupby(df.index.day)['arrest_made'].mean()"
   ]
  },
  {
   "cell_type": "code",
   "execution_count": 60,
   "id": "cea184d6",
   "metadata": {
    "scrolled": false
   },
   "outputs": [
    {
     "data": {
      "image/png": "[encoded data removed]",
      "text/plain": [
       "<Figure size 432x288 with 1 Axes>"
      ]
     },
     "metadata": {
      "needs_background": "light"
     },
     "output_type": "display_data"
    }
   ],
   "source": [
    "time_is_arrested.plot()\n",
    "plt.show()"
   ]
  },
  {
   "cell_type": "code",
   "execution_count": 61,
   "id": "19812311",
   "metadata": {},
   "outputs": [
    {
     "data": {
      "image/png": "[encoded data removed]",
      "text/plain": [
       "<Figure size 432x288 with 1 Axes>"
      ]
     },
     "metadata": {
      "needs_background": "light"
     },
     "output_type": "display_data"
    }
   ],
   "source": [
    "month_is_arrested.plot()\n",
    "plt.show()"
   ]
  },
  {
   "cell_type": "code",
   "execution_count": 62,
   "id": "826278f9",
   "metadata": {},
   "outputs": [
    {
     "data": {
      "image/png": "[encoded data removed]",
      "text/plain": [
       "<Figure size 432x288 with 1 Axes>"
      ]
     },
     "metadata": {
      "needs_background": "light"
     },
     "output_type": "display_data"
    }
   ],
   "source": [
    "day_is_arrested.plot()\n",
    "plt.show()"
   ]
  },
  {
   "cell_type": "markdown",
   "id": "7ec200b0",
   "metadata": {},
   "source": [
    "<b>Answer</b> : \n",
    "- from 18:00 to 04:00 is the time when many violations occur. while 05:00 to 17:00 is the hour with a few violations\n",
    "- December is the month with the highest violation rate and September is the month with the lowest violation rate\n",
    "- from the 1st to the 17th, the violation rate is relatively high and the 18th to the 30th is relatively low"
   ]
  },
  {
   "cell_type": "code",
   "execution_count": 63,
   "id": "ccfb540c",
   "metadata": {
    "scrolled": false
   },
   "outputs": [
    {
     "data": {
      "text/html": [
       "<div>\n",
       "<style scoped>\n",
       "    .dataframe tbody tr th:only-of-type {\n",
       "        vertical-align: middle;\n",
       "    }\n",
       "\n",
       "    .dataframe tbody tr th {\n",
       "        vertical-align: top;\n",
       "    }\n",
       "\n",
       "    .dataframe thead th {\n",
       "        text-align: right;\n",
       "    }\n",
       "</style>\n",
       "<table border=\"1\" class=\"dataframe\">\n",
       "  <thead>\n",
       "    <tr style=\"text-align: right;\">\n",
       "      <th></th>\n",
       "      <th>zone</th>\n",
       "      <th>arrest_made</th>\n",
       "      <th>outcome</th>\n",
       "      <th>search_conducted</th>\n",
       "      <th>basis_for_stop</th>\n",
       "      <th>race</th>\n",
       "      <th>sex</th>\n",
       "    </tr>\n",
       "    <tr>\n",
       "      <th>date_and_time</th>\n",
       "      <th></th>\n",
       "      <th></th>\n",
       "      <th></th>\n",
       "      <th></th>\n",
       "      <th></th>\n",
       "      <th></th>\n",
       "      <th></th>\n",
       "    </tr>\n",
       "  </thead>\n",
       "  <tbody>\n",
       "    <tr>\n",
       "      <th>2005-11-22 11:15:00</th>\n",
       "      <td>X3</td>\n",
       "      <td>False</td>\n",
       "      <td>citation</td>\n",
       "      <td>0</td>\n",
       "      <td>SP</td>\n",
       "      <td>W</td>\n",
       "      <td>M</td>\n",
       "    </tr>\n",
       "    <tr>\n",
       "      <th>2005-10-01 12:20:00</th>\n",
       "      <td>X3</td>\n",
       "      <td>False</td>\n",
       "      <td>citation</td>\n",
       "      <td>0</td>\n",
       "      <td>SP</td>\n",
       "      <td>W</td>\n",
       "      <td>M</td>\n",
       "    </tr>\n",
       "    <tr>\n",
       "      <th>2005-10-01 12:30:00</th>\n",
       "      <td>X3</td>\n",
       "      <td>False</td>\n",
       "      <td>citation</td>\n",
       "      <td>0</td>\n",
       "      <td>SP</td>\n",
       "      <td>W</td>\n",
       "      <td>F</td>\n",
       "    </tr>\n",
       "    <tr>\n",
       "      <th>2005-10-01 12:50:00</th>\n",
       "      <td>X3</td>\n",
       "      <td>False</td>\n",
       "      <td>citation</td>\n",
       "      <td>0</td>\n",
       "      <td>SP</td>\n",
       "      <td>W</td>\n",
       "      <td>M</td>\n",
       "    </tr>\n",
       "    <tr>\n",
       "      <th>2005-10-01 13:10:00</th>\n",
       "      <td>X3</td>\n",
       "      <td>False</td>\n",
       "      <td>citation</td>\n",
       "      <td>0</td>\n",
       "      <td>SP</td>\n",
       "      <td>W</td>\n",
       "      <td>F</td>\n",
       "    </tr>\n",
       "  </tbody>\n",
       "</table>\n",
       "</div>"
      ],
      "text/plain": [
       "                    zone  arrest_made   outcome  search_conducted  \\\n",
       "date_and_time                                                       \n",
       "2005-11-22 11:15:00   X3        False  citation                 0   \n",
       "2005-10-01 12:20:00   X3        False  citation                 0   \n",
       "2005-10-01 12:30:00   X3        False  citation                 0   \n",
       "2005-10-01 12:50:00   X3        False  citation                 0   \n",
       "2005-10-01 13:10:00   X3        False  citation                 0   \n",
       "\n",
       "                    basis_for_stop race sex  \n",
       "date_and_time                                \n",
       "2005-11-22 11:15:00             SP    W   M  \n",
       "2005-10-01 12:20:00             SP    W   M  \n",
       "2005-10-01 12:30:00             SP    W   F  \n",
       "2005-10-01 12:50:00             SP    W   M  \n",
       "2005-10-01 13:10:00             SP    W   F  "
      ]
     },
     "execution_count": 63,
     "metadata": {},
     "output_type": "execute_result"
    }
   ],
   "source": [
    "df.head()"
   ]
  },
  {
   "cell_type": "code",
   "execution_count": 64,
   "id": "58b4ed74",
   "metadata": {},
   "outputs": [
    {
     "data": {
      "text/html": [
       "<div>\n",
       "<style scoped>\n",
       "    .dataframe tbody tr th:only-of-type {\n",
       "        vertical-align: middle;\n",
       "    }\n",
       "\n",
       "    .dataframe tbody tr th {\n",
       "        vertical-align: top;\n",
       "    }\n",
       "\n",
       "    .dataframe thead th {\n",
       "        text-align: right;\n",
       "    }\n",
       "</style>\n",
       "<table border=\"1\" class=\"dataframe\">\n",
       "  <thead>\n",
       "    <tr style=\"text-align: right;\">\n",
       "      <th></th>\n",
       "      <th>date_and_time</th>\n",
       "      <th>zone</th>\n",
       "      <th>arrest_made</th>\n",
       "      <th>outcome</th>\n",
       "      <th>search_conducted</th>\n",
       "      <th>basis_for_stop</th>\n",
       "      <th>race</th>\n",
       "      <th>sex</th>\n",
       "    </tr>\n",
       "  </thead>\n",
       "  <tbody>\n",
       "    <tr>\n",
       "      <th>0</th>\n",
       "      <td>2005-11-22 11:15:00</td>\n",
       "      <td>X3</td>\n",
       "      <td>False</td>\n",
       "      <td>citation</td>\n",
       "      <td>0</td>\n",
       "      <td>SP</td>\n",
       "      <td>W</td>\n",
       "      <td>M</td>\n",
       "    </tr>\n",
       "    <tr>\n",
       "      <th>1</th>\n",
       "      <td>2005-10-01 12:20:00</td>\n",
       "      <td>X3</td>\n",
       "      <td>False</td>\n",
       "      <td>citation</td>\n",
       "      <td>0</td>\n",
       "      <td>SP</td>\n",
       "      <td>W</td>\n",
       "      <td>M</td>\n",
       "    </tr>\n",
       "    <tr>\n",
       "      <th>2</th>\n",
       "      <td>2005-10-01 12:30:00</td>\n",
       "      <td>X3</td>\n",
       "      <td>False</td>\n",
       "      <td>citation</td>\n",
       "      <td>0</td>\n",
       "      <td>SP</td>\n",
       "      <td>W</td>\n",
       "      <td>F</td>\n",
       "    </tr>\n",
       "    <tr>\n",
       "      <th>3</th>\n",
       "      <td>2005-10-01 12:50:00</td>\n",
       "      <td>X3</td>\n",
       "      <td>False</td>\n",
       "      <td>citation</td>\n",
       "      <td>0</td>\n",
       "      <td>SP</td>\n",
       "      <td>W</td>\n",
       "      <td>M</td>\n",
       "    </tr>\n",
       "    <tr>\n",
       "      <th>4</th>\n",
       "      <td>2005-10-01 13:10:00</td>\n",
       "      <td>X3</td>\n",
       "      <td>False</td>\n",
       "      <td>citation</td>\n",
       "      <td>0</td>\n",
       "      <td>SP</td>\n",
       "      <td>W</td>\n",
       "      <td>F</td>\n",
       "    </tr>\n",
       "    <tr>\n",
       "      <th>...</th>\n",
       "      <td>...</td>\n",
       "      <td>...</td>\n",
       "      <td>...</td>\n",
       "      <td>...</td>\n",
       "      <td>...</td>\n",
       "      <td>...</td>\n",
       "      <td>...</td>\n",
       "      <td>...</td>\n",
       "    </tr>\n",
       "    <tr>\n",
       "      <th>473835</th>\n",
       "      <td>2015-12-30 11:42:00</td>\n",
       "      <td>K2</td>\n",
       "      <td>False</td>\n",
       "      <td>citation</td>\n",
       "      <td>0</td>\n",
       "      <td>OT</td>\n",
       "      <td>W</td>\n",
       "      <td>F</td>\n",
       "    </tr>\n",
       "    <tr>\n",
       "      <th>473836</th>\n",
       "      <td>2015-08-04 10:40:00</td>\n",
       "      <td>X3</td>\n",
       "      <td>False</td>\n",
       "      <td>citation</td>\n",
       "      <td>0</td>\n",
       "      <td>EQ</td>\n",
       "      <td>W</td>\n",
       "      <td>M</td>\n",
       "    </tr>\n",
       "    <tr>\n",
       "      <th>473837</th>\n",
       "      <td>2015-12-20 11:17:00</td>\n",
       "      <td>K3</td>\n",
       "      <td>False</td>\n",
       "      <td>citation</td>\n",
       "      <td>0</td>\n",
       "      <td>SP</td>\n",
       "      <td>W</td>\n",
       "      <td>F</td>\n",
       "    </tr>\n",
       "    <tr>\n",
       "      <th>473838</th>\n",
       "      <td>2015-11-09 23:35:00</td>\n",
       "      <td>X4</td>\n",
       "      <td>False</td>\n",
       "      <td>warning</td>\n",
       "      <td>0</td>\n",
       "      <td>EQ</td>\n",
       "      <td>W</td>\n",
       "      <td>M</td>\n",
       "    </tr>\n",
       "    <tr>\n",
       "      <th>473839</th>\n",
       "      <td>2015-10-30 11:09:00</td>\n",
       "      <td>X4</td>\n",
       "      <td>False</td>\n",
       "      <td>citation</td>\n",
       "      <td>0</td>\n",
       "      <td>SP</td>\n",
       "      <td>W</td>\n",
       "      <td>F</td>\n",
       "    </tr>\n",
       "  </tbody>\n",
       "</table>\n",
       "<p>473840 rows × 8 columns</p>\n",
       "</div>"
      ],
      "text/plain": [
       "             date_and_time zone  arrest_made   outcome  search_conducted  \\\n",
       "0      2005-11-22 11:15:00   X3        False  citation                 0   \n",
       "1      2005-10-01 12:20:00   X3        False  citation                 0   \n",
       "2      2005-10-01 12:30:00   X3        False  citation                 0   \n",
       "3      2005-10-01 12:50:00   X3        False  citation                 0   \n",
       "4      2005-10-01 13:10:00   X3        False  citation                 0   \n",
       "...                    ...  ...          ...       ...               ...   \n",
       "473835 2015-12-30 11:42:00   K2        False  citation                 0   \n",
       "473836 2015-08-04 10:40:00   X3        False  citation                 0   \n",
       "473837 2015-12-20 11:17:00   K3        False  citation                 0   \n",
       "473838 2015-11-09 23:35:00   X4        False   warning                 0   \n",
       "473839 2015-10-30 11:09:00   X4        False  citation                 0   \n",
       "\n",
       "       basis_for_stop race sex  \n",
       "0                  SP    W   M  \n",
       "1                  SP    W   M  \n",
       "2                  SP    W   F  \n",
       "3                  SP    W   M  \n",
       "4                  SP    W   F  \n",
       "...               ...  ...  ..  \n",
       "473835             OT    W   F  \n",
       "473836             EQ    W   M  \n",
       "473837             SP    W   F  \n",
       "473838             EQ    W   M  \n",
       "473839             SP    W   F  \n",
       "\n",
       "[473840 rows x 8 columns]"
      ]
     },
     "execution_count": 64,
     "metadata": {},
     "output_type": "execute_result"
    }
   ],
   "source": [
    "df.reset_index()"
   ]
  },
  {
   "cell_type": "code",
   "execution_count": 65,
   "id": "bd9805bf",
   "metadata": {
    "scrolled": true
   },
   "outputs": [
    {
     "data": {
      "text/html": [
       "<div>\n",
       "<style scoped>\n",
       "    .dataframe tbody tr th:only-of-type {\n",
       "        vertical-align: middle;\n",
       "    }\n",
       "\n",
       "    .dataframe tbody tr th {\n",
       "        vertical-align: top;\n",
       "    }\n",
       "\n",
       "    .dataframe thead th {\n",
       "        text-align: right;\n",
       "    }\n",
       "</style>\n",
       "<table border=\"1\" class=\"dataframe\">\n",
       "  <thead>\n",
       "    <tr style=\"text-align: right;\">\n",
       "      <th>sex</th>\n",
       "      <th>F</th>\n",
       "      <th>M</th>\n",
       "      <th>U</th>\n",
       "    </tr>\n",
       "    <tr>\n",
       "      <th>race</th>\n",
       "      <th></th>\n",
       "      <th></th>\n",
       "      <th></th>\n",
       "    </tr>\n",
       "  </thead>\n",
       "  <tbody>\n",
       "    <tr>\n",
       "      <th>B</th>\n",
       "      <td>14485</td>\n",
       "      <td>52986</td>\n",
       "      <td>2</td>\n",
       "    </tr>\n",
       "    <tr>\n",
       "      <th>H</th>\n",
       "      <td>8493</td>\n",
       "      <td>34802</td>\n",
       "      <td>2</td>\n",
       "    </tr>\n",
       "    <tr>\n",
       "      <th>I</th>\n",
       "      <td>2921</td>\n",
       "      <td>9768</td>\n",
       "      <td>1</td>\n",
       "    </tr>\n",
       "    <tr>\n",
       "      <th>L</th>\n",
       "      <td>1604</td>\n",
       "      <td>7301</td>\n",
       "      <td>0</td>\n",
       "    </tr>\n",
       "    <tr>\n",
       "      <th>N</th>\n",
       "      <td>100</td>\n",
       "      <td>421</td>\n",
       "      <td>0</td>\n",
       "    </tr>\n",
       "  </tbody>\n",
       "</table>\n",
       "</div>"
      ],
      "text/plain": [
       "sex       F      M  U\n",
       "race                 \n",
       "B     14485  52986  2\n",
       "H      8493  34802  2\n",
       "I      2921   9768  1\n",
       "L      1604   7301  0\n",
       "N       100    421  0"
      ]
     },
     "execution_count": 65,
     "metadata": {},
     "output_type": "execute_result"
    }
   ],
   "source": [
    "table = pd.crosstab(df['race'], df['sex'])\n",
    "table.head()"
   ]
  },
  {
   "cell_type": "code",
   "execution_count": 66,
   "id": "0696906d",
   "metadata": {
    "scrolled": false
   },
   "outputs": [
    {
     "data": {
      "image/png": "[encoded data removed]",
      "text/plain": [
       "<Figure size 432x288 with 1 Axes>"
      ]
     },
     "metadata": {
      "needs_background": "light"
     },
     "output_type": "display_data"
    }
   ],
   "source": [
    "table.plot()\n",
    "plt.show()"
   ]
  },
  {
   "cell_type": "code",
   "execution_count": 79,
   "id": "0f7bbad5",
   "metadata": {},
   "outputs": [
    {
     "data": {
      "text/html": [
       "<div>\n",
       "<style scoped>\n",
       "    .dataframe tbody tr th:only-of-type {\n",
       "        vertical-align: middle;\n",
       "    }\n",
       "\n",
       "    .dataframe tbody tr th {\n",
       "        vertical-align: top;\n",
       "    }\n",
       "\n",
       "    .dataframe thead th {\n",
       "        text-align: right;\n",
       "    }\n",
       "</style>\n",
       "<table border=\"1\" class=\"dataframe\">\n",
       "  <thead>\n",
       "    <tr style=\"text-align: right;\">\n",
       "      <th>sex</th>\n",
       "      <th>F</th>\n",
       "      <th>M</th>\n",
       "    </tr>\n",
       "    <tr>\n",
       "      <th>race</th>\n",
       "      <th></th>\n",
       "      <th></th>\n",
       "    </tr>\n",
       "  </thead>\n",
       "  <tbody>\n",
       "    <tr>\n",
       "      <th>B</th>\n",
       "      <td>14485</td>\n",
       "      <td>52986</td>\n",
       "    </tr>\n",
       "    <tr>\n",
       "      <th>H</th>\n",
       "      <td>8493</td>\n",
       "      <td>34802</td>\n",
       "    </tr>\n",
       "    <tr>\n",
       "      <th>I</th>\n",
       "      <td>2921</td>\n",
       "      <td>9768</td>\n",
       "    </tr>\n",
       "    <tr>\n",
       "      <th>W</th>\n",
       "      <td>101479</td>\n",
       "      <td>238655</td>\n",
       "    </tr>\n",
       "  </tbody>\n",
       "</table>\n",
       "</div>"
      ],
      "text/plain": [
       "sex        F       M\n",
       "race                \n",
       "B      14485   52986\n",
       "H       8493   34802\n",
       "I       2921    9768\n",
       "W     101479  238655"
      ]
     },
     "execution_count": 79,
     "metadata": {},
     "output_type": "execute_result"
    }
   ],
   "source": [
    "table1 = table.loc[['B', 'H', 'I', 'W'], ['F', 'M']]\n",
    "table1.head()"
   ]
  },
  {
   "cell_type": "code",
   "execution_count": 80,
   "id": "eaaad820",
   "metadata": {},
   "outputs": [
    {
     "data": {
      "image/png": "[encoded data removed]",
      "text/plain": [
       "<Figure size 432x288 with 1 Axes>"
      ]
     },
     "metadata": {
      "needs_background": "light"
     },
     "output_type": "display_data"
    }
   ],
   "source": [
    "table1.plot(kind='bar')\n",
    "plt.show()"
   ]
  },
  {
   "cell_type": "markdown",
   "id": "d2a9b623",
   "metadata": {},
   "source": [
    "<b>Interpretation : <b>\n",
    "<p>Black and white races have a significant value on males apart from that they have a flat value</p>  "
   ]
  },
  {
   "cell_type": "code",
   "execution_count": 82,
   "id": "2e4859df",
   "metadata": {},
   "outputs": [
    {
     "data": {
      "text/html": [
       "<div>\n",
       "<style scoped>\n",
       "    .dataframe tbody tr th:only-of-type {\n",
       "        vertical-align: middle;\n",
       "    }\n",
       "\n",
       "    .dataframe tbody tr th {\n",
       "        vertical-align: top;\n",
       "    }\n",
       "\n",
       "    .dataframe thead th {\n",
       "        text-align: right;\n",
       "    }\n",
       "</style>\n",
       "<table border=\"1\" class=\"dataframe\">\n",
       "  <thead>\n",
       "    <tr style=\"text-align: right;\">\n",
       "      <th></th>\n",
       "      <th>zone</th>\n",
       "      <th>arrest_made</th>\n",
       "      <th>outcome</th>\n",
       "      <th>search_conducted</th>\n",
       "      <th>basis_for_stop</th>\n",
       "      <th>race</th>\n",
       "      <th>sex</th>\n",
       "    </tr>\n",
       "    <tr>\n",
       "      <th>date_and_time</th>\n",
       "      <th></th>\n",
       "      <th></th>\n",
       "      <th></th>\n",
       "      <th></th>\n",
       "      <th></th>\n",
       "      <th></th>\n",
       "      <th></th>\n",
       "    </tr>\n",
       "  </thead>\n",
       "  <tbody>\n",
       "    <tr>\n",
       "      <th>2005-11-22 11:15:00</th>\n",
       "      <td>X3</td>\n",
       "      <td>False</td>\n",
       "      <td>citation</td>\n",
       "      <td>0</td>\n",
       "      <td>SP</td>\n",
       "      <td>W</td>\n",
       "      <td>M</td>\n",
       "    </tr>\n",
       "    <tr>\n",
       "      <th>2005-10-01 12:20:00</th>\n",
       "      <td>X3</td>\n",
       "      <td>False</td>\n",
       "      <td>citation</td>\n",
       "      <td>0</td>\n",
       "      <td>SP</td>\n",
       "      <td>W</td>\n",
       "      <td>M</td>\n",
       "    </tr>\n",
       "    <tr>\n",
       "      <th>2005-10-01 12:30:00</th>\n",
       "      <td>X3</td>\n",
       "      <td>False</td>\n",
       "      <td>citation</td>\n",
       "      <td>0</td>\n",
       "      <td>SP</td>\n",
       "      <td>W</td>\n",
       "      <td>F</td>\n",
       "    </tr>\n",
       "    <tr>\n",
       "      <th>2005-10-01 12:50:00</th>\n",
       "      <td>X3</td>\n",
       "      <td>False</td>\n",
       "      <td>citation</td>\n",
       "      <td>0</td>\n",
       "      <td>SP</td>\n",
       "      <td>W</td>\n",
       "      <td>M</td>\n",
       "    </tr>\n",
       "    <tr>\n",
       "      <th>2005-10-01 13:10:00</th>\n",
       "      <td>X3</td>\n",
       "      <td>False</td>\n",
       "      <td>citation</td>\n",
       "      <td>0</td>\n",
       "      <td>SP</td>\n",
       "      <td>W</td>\n",
       "      <td>F</td>\n",
       "    </tr>\n",
       "  </tbody>\n",
       "</table>\n",
       "</div>"
      ],
      "text/plain": [
       "                    zone  arrest_made   outcome  search_conducted  \\\n",
       "date_and_time                                                       \n",
       "2005-11-22 11:15:00   X3        False  citation                 0   \n",
       "2005-10-01 12:20:00   X3        False  citation                 0   \n",
       "2005-10-01 12:30:00   X3        False  citation                 0   \n",
       "2005-10-01 12:50:00   X3        False  citation                 0   \n",
       "2005-10-01 13:10:00   X3        False  citation                 0   \n",
       "\n",
       "                    basis_for_stop race sex  \n",
       "date_and_time                                \n",
       "2005-11-22 11:15:00             SP    W   M  \n",
       "2005-10-01 12:20:00             SP    W   M  \n",
       "2005-10-01 12:30:00             SP    W   F  \n",
       "2005-10-01 12:50:00             SP    W   M  \n",
       "2005-10-01 13:10:00             SP    W   F  "
      ]
     },
     "execution_count": 82,
     "metadata": {},
     "output_type": "execute_result"
    }
   ],
   "source": [
    "df.head()"
   ]
  },
  {
   "cell_type": "code",
   "execution_count": 86,
   "id": "afed86d1",
   "metadata": {
    "scrolled": true
   },
   "outputs": [],
   "source": [
    "search_rate = df.groupby('basis_for_stop')['search_conducted'].mean()"
   ]
  },
  {
   "cell_type": "markdown",
   "id": "25882241",
   "metadata": {},
   "source": [
    "<b>raw_BasisForStop :</b><br>\n",
    "- Speeding(SP)                            \n",
    "- Other Traffic Violation(OT)              \n",
    "- Equipment/Inspection Violation(EQ)       \n",
    "- Registration Violation(RV)               \n",
    "- Seatbelt Violation(SB)                   \n",
    "- Special Detail/Directed Patrol(SD)       \n",
    "- Call for Service(CS)                      \n",
    "- Violation of City/Town Ordinance(VO)      \n",
    "- Motorist Assist/Courtesy(MO)               \n",
    "- APB(AP)                                    \n",
    "- Suspicious Person(SU)                      \n",
    "- Warrant(WA)   "
   ]
  },
  {
   "cell_type": "code",
   "execution_count": 91,
   "id": "c9c4675f",
   "metadata": {},
   "outputs": [
    {
     "data": {
      "text/plain": [
       "basis_for_stop\n",
       "SD    0.010627\n",
       "SP    0.020428\n",
       "SB    0.028450\n",
       "OT    0.054025\n",
       "EQ    0.064377\n",
       "VO    0.067647\n",
       "RV    0.088223\n",
       "CS    0.091603\n",
       "MO    0.183562\n",
       "AP    0.247191\n",
       "WA    0.295238\n",
       "SU    0.330317\n",
       "Name: search_conducted, dtype: float64"
      ]
     },
     "execution_count": 91,
     "metadata": {},
     "output_type": "execute_result"
    }
   ],
   "source": [
    "search_rate.sort_values()"
   ]
  },
  {
   "cell_type": "code",
   "execution_count": 93,
   "id": "5351bbde",
   "metadata": {},
   "outputs": [
    {
     "data": {
      "image/png": "[encoded data removed]",
      "text/plain": [
       "<Figure size 432x288 with 1 Axes>"
      ]
     },
     "metadata": {
      "needs_background": "light"
     },
     "output_type": "display_data"
    }
   ],
   "source": [
    "search_rate.sort_values().plot(kind='barh')\n",
    "plt.show()"
   ]
  },
  {
   "cell_type": "markdown",
   "id": "ce8edd84",
   "metadata": {},
   "source": [
    "<b>Interpretation : <b>\n",
    "Suspicious Persons and warrants are the most frequently investigated violations. while Special Detail/Directed Patrol and Speeding are violations that are rarely checked"
   ]
  },
  {
   "cell_type": "markdown",
   "id": "aa2249d1",
   "metadata": {},
   "source": [
    "# IMPORTANT TO READ"
   ]
  },
  {
   "cell_type": "markdown",
   "id": "ebe43086",
   "metadata": {},
   "source": [
    "<h3>THIS IS CORRELATION, NOT CAUSATION.</h3>\n",
    "\n",
    "- Analyze the relationship between gender and basis_for_stop just for Assess whether there is a correlation.\n",
    "- Not going to draw any conclusions about causation. To draw causal inferences requires additional data and expertise and here I am only exploring the relationships.\n",
    "\n",
    "    "
   ]
  }
 ],
 "metadata": {
  "kernelspec": {
   "display_name": "Python [conda env:MiniConda-jcopml]",
   "language": "python",
   "name": "conda-env-MiniConda-jcopml-py"
  },
  "language_info": {
   "codemirror_mode": {
    "name": "ipython",
    "version": 3
   },
   "file_extension": ".py",
   "mimetype": "text/x-python",
   "name": "python",
   "nbconvert_exporter": "python",
   "pygments_lexer": "ipython3",
   "version": "3.7.6"
  },
  "varInspector": {
   "cols": {
    "lenName": 16,
    "lenType": 16,
    "lenVar": 40
   },
   "kernels_config": {
    "python": {
     "delete_cmd_postfix": "",
     "delete_cmd_prefix": "del ",
     "library": "var_list.py",
     "varRefreshCmd": "print(var_dic_list())"
    },
    "r": {
     "delete_cmd_postfix": ") ",
     "delete_cmd_prefix": "rm(",
     "library": "var_list.r",
     "varRefreshCmd": "cat(var_dic_list()) "
    }
   },
   "types_to_exclude": [
    "module",
    "function",
    "builtin_function_or_method",
    "instance",
    "_Feature"
   ],
   "window_display": false
  }
 },
 "nbformat": 4,
 "nbformat_minor": 5
}
